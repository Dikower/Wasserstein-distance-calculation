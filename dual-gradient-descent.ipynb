{
 "cells": [
  {
   "cell_type": "code",
   "execution_count": 1,
   "metadata": {
    "collapsed": true
   },
   "outputs": [],
   "source": [
    "import numpy as np\n",
    "from lib import DualGradientDescent\n",
    "from lib import Experiments"
   ]
  },
  {
   "cell_type": "code",
   "execution_count": 2,
   "metadata": {
    "collapsed": true,
    "scrolled": false
   },
   "outputs": [],
   "source": [
    "def sample_batch(n):\n",
    "    c = np.random.uniform(0, 10, size=[n, n])\n",
    "    p = np.random.dirichlet(np.ones(n), size=1).ravel()\n",
    "    q = np.random.dirichlet(np.ones(n), size=1).ravel()\n",
    "    return c, p, q"
   ]
  },
  {
   "cell_type": "code",
   "execution_count": 3,
   "metadata": {},
   "outputs": [
    {
     "name": "stdout",
     "output_type": "stream",
     "text": [
      "iteration 5000:   criteria 1 = 0.0256658, criteria 2 = -0.2474279\n",
      "iteration 10000:   criteria 1 = 0.0141456, criteria 2 = -0.1885392\n",
      "iteration 15000:   criteria 1 = 0.0096324, criteria 2 = -0.1617641\n",
      "iteration 20000:   criteria 1 = 0.0072496, criteria 2 = -0.1469809\n",
      "iteration 25000:   criteria 1 = 0.0058073, criteria 2 = -0.1379122\n",
      "iteration 30000:   criteria 1 = 0.004845, criteria 2 = -0.1317915\n",
      "iteration 35000:   criteria 1 = 0.0041555, criteria 2 = -0.1273553\n",
      "iteration 40000:   criteria 1 = 0.0036366, criteria 2 = -0.1239978\n",
      "iteration 45000:   criteria 1 = 0.0032326, criteria 2 = -0.1213742\n"
     ]
    }
   ],
   "source": [
    "n = 40\n",
    "c, p, q = sample_batch(n)\n",
    "x, k = DualGradientDescent(gamma=0.05, epsilon=1e-2, n=n).fit(c, p, q)"
   ]
  },
  {
   "cell_type": "code",
   "execution_count": 8,
   "metadata": {},
   "outputs": [
    {
     "data": {
      "image/png": "[encoded data removed]",
      "text/plain": [
       "<matplotlib.figure.Figure at 0x1a13c12f60>"
      ]
     },
     "metadata": {},
     "output_type": "display_data"
    }
   ],
   "source": [
    "c_, p_, q_ = Experiments.load_data('experiments/test_data/1.png', 'experiments/test_data/2.png', show=True, size=10)\n",
    "n = p_.shape[0]"
   ]
  },
  {
   "cell_type": "code",
   "execution_count": 9,
   "metadata": {},
   "outputs": [
    {
     "name": "stdout",
     "output_type": "stream",
     "text": [
      "iteration 5000:   criteria 1 = 0.0265669, criteria 2 = -0.2716451\n",
      "iteration 10000:   criteria 1 = 0.0147016, criteria 2 = -0.2051038\n",
      "iteration 15000:   criteria 1 = 0.0103347, criteria 2 = -0.177832\n",
      "iteration 20000:   criteria 1 = 0.0080651, criteria 2 = -0.1630663\n",
      "iteration 25000:   criteria 1 = 0.0066411, criteria 2 = -0.1533913\n",
      "iteration 30000:   criteria 1 = 0.0056758, criteria 2 = -0.1467923\n",
      "iteration 35000:   criteria 1 = 0.0049803, criteria 2 = -0.1420276\n",
      "iteration 40000:   criteria 1 = 0.0044512, criteria 2 = -0.1383686\n",
      "iteration 45000:   criteria 1 = 0.0040357, criteria 2 = -0.1354954\n",
      "iteration 50000:   criteria 1 = 0.0037016, criteria 2 = -0.133188\n",
      "iteration 55000:   criteria 1 = 0.0034261, criteria 2 = -0.1312765\n",
      "iteration 60000:   criteria 1 = 0.0031941, criteria 2 = -0.1296488\n",
      "iteration 65000:   criteria 1 = 0.0029947, criteria 2 = -0.1282212\n",
      "iteration 70000:   criteria 1 = 0.0028203, criteria 2 = -0.1269392\n",
      "iteration 75000:   criteria 1 = 0.0026663, criteria 2 = -0.1257871\n"
     ]
    }
   ],
   "source": [
    "x, k = DualGradientDescent(gamma=0.05, epsilon=1e-2, n=n).fit(c_, p_, q_)"
   ]
  },
  {
   "cell_type": "code",
   "execution_count": null,
   "metadata": {},
   "outputs": [],
   "source": []
  }
 ],
 "metadata": {
  "kernelspec": {
   "display_name": "Python 3",
   "language": "python",
   "name": "python3"
  },
  "language_info": {
   "codemirror_mode": {
    "name": "ipython",
    "version": 3
   },
   "file_extension": ".py",
   "mimetype": "text/x-python",
   "name": "python",
   "nbconvert_exporter": "python",
   "pygments_lexer": "ipython3",
   "version": "3.6.4"
  }
 },
 "nbformat": 4,
 "nbformat_minor": 2
}
