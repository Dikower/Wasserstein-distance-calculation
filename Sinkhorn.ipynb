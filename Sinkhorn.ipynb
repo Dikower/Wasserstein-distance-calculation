{
 "cells": [
  {
   "cell_type": "code",
   "execution_count": 1,
   "metadata": {},
   "outputs": [],
   "source": [
    "import numpy as np\n",
    "from numpy import exp, log\n",
    "from numpy.linalg import norm\n",
    "import matplotlib.pyplot as plt"
   ]
  },
  {
   "cell_type": "code",
   "execution_count": 95,
   "metadata": {},
   "outputs": [],
   "source": [
    "n = 4\n",
    "C = np.array([[6, 3, 7, 1],\n",
    "              [5, 12, 10, 4],\n",
    "              [16, 8, 2, 9], \n",
    "              [5, 11, 10, 3]])\n",
    "p = np.array([0.07874016, 0.22834646, 0.30708661, 0.38582677])  # i = 1, ..., n\n",
    "q = np.array([0.11801242, 0.2173913 , 0.26086957, 0.40372671])  # j = 1, ..., n\n",
    "\n",
    "gamma = 1e+4\n"
   ]
  },
  {
   "cell_type": "code",
   "execution_count": 97,
   "metadata": {},
   "outputs": [],
   "source": [
    "eps = 1e-3\n",
    "eps1 = 1e-7\n",
    "m = np.ones(n)\n",
    "\n",
    "X_new = 1/n**2 * np.ones((n, n))\n",
    "while True:\n",
    "    X = X_new\n",
    "    t = 0\n",
    "    while not (sum(abs(norm(X_new, 1, axis=1) - p)) + sum(abs(norm(X_new, 1, axis=0) - q)) <= eps):\n",
    "        l = gamma * log(1/p * norm(exp(-(gamma + C + m) / gamma) * X, 1, axis=1))\n",
    "        m = gamma * log(1/q * norm(exp(-(gamma + C + l) / gamma) * X, 1, axis=1))\n",
    "        X_new = X * np.array(exp( -(gamma + C + np.matrix(l).T + m)/gamma ))\n",
    "        t += 1\n",
    "        \n",
    "    if norm(X_new - X, 2) <= eps1:\n",
    "        break"
   ]
  },
  {
   "cell_type": "code",
   "execution_count": 98,
   "metadata": {},
   "outputs": [
    {
     "data": {
      "text/plain": [
       "2.7376455503033692e-05"
      ]
     },
     "execution_count": 98,
     "metadata": {},
     "output_type": "execute_result"
    }
   ],
   "source": [
    "sum(abs(norm(X_new, 1, axis=1) - p))"
   ]
  },
  {
   "cell_type": "code",
   "execution_count": null,
   "metadata": {},
   "outputs": [],
   "source": []
  }
 ],
 "metadata": {
  "kernelspec": {
   "display_name": "Python 3",
   "language": "python",
   "name": "python3"
  },
  "language_info": {
   "codemirror_mode": {
    "name": "ipython",
    "version": 3
   },
   "file_extension": ".py",
   "mimetype": "text/x-python",
   "name": "python",
   "nbconvert_exporter": "python",
   "pygments_lexer": "ipython3",
   "version": "3.6.4"
  }
 },
 "nbformat": 4,
 "nbformat_minor": 2
}
