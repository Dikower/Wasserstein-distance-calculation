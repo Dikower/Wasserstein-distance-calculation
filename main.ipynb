{
 "cells": [
  {
   "cell_type": "code",
   "execution_count": 9,
   "metadata": {},
   "outputs": [],
   "source": [
    "import numpy as np\n",
    "from numpy import exp, log\n",
    "from numpy.linalg import norm\n",
    "import matplotlib.pyplot as plt"
   ]
  },
  {
   "cell_type": "code",
   "execution_count": 84,
   "metadata": {},
   "outputs": [],
   "source": [
    "def cos(a, b):\n",
    "    return np.dot(a, b) / (np.linalg.norm(a) * np.linalg.norm(b))\n",
    "\n",
    "def W(p, q, C):\n",
    "    n = p.shape[0]\n",
    "    gamma = 1\n",
    "    \n",
    "    l = np.ones(n)  # i = 1, ..., n\n",
    "    m = np.ones(n)  # j = 1, ..., n\n",
    "\n",
    "    delta_l = float('inf')\n",
    "    delta_m = float('inf')\n",
    "    eps = 1e-6\n",
    "\n",
    "    t = 0\n",
    "    while delta_l > eps or delta_m > eps:\n",
    "        l_new = gamma * log(1/p * norm(exp(-(gamma + C + m) / gamma) * 1/n**2, 1, axis=1)) \n",
    "        m_new = gamma * log(1/q * norm(exp(-(gamma + C + l_new) / gamma) * 1/n**2, 1, axis=1))\n",
    "\n",
    "        delta_l, delta_m = 1 - cos(l, l_new), 1 - cos(m, m_new)\n",
    "        l, m = l_new, m_new\n",
    "        t += 1\n",
    "    \n",
    "    X = 1/n**2 * np.array(exp( -(gamma + C + np.matrix(l).T + m)/gamma ))\n",
    "    \n",
    "    w = np.sum(np.array(C) * X)\n",
    "    w_gamma = w + np.sum(X * log(X / (1/n**2)))\n",
    "    \n",
    "    return w"
   ]
  },
  {
   "cell_type": "code",
   "execution_count": 82,
   "metadata": {},
   "outputs": [],
   "source": [
    "C = np.matrix([[1, 1, 1, 1],\n",
    "               [1, 1, 1, 1],\n",
    "               [1, 1, 1, 1], \n",
    "               [1, 1, 1, 1]])\n",
    "\n",
    "p = np.array([1, 2, 3, 4])  # i = 1, ..., n\n",
    "q = np.array([2, 3, 1, 4])  # j = 1, ..., n"
   ]
  },
  {
   "cell_type": "code",
   "execution_count": 83,
   "metadata": {},
   "outputs": [
    {
     "data": {
      "text/plain": [
       "10.0"
      ]
     },
     "execution_count": 83,
     "metadata": {},
     "output_type": "execute_result"
    }
   ],
   "source": [
    "W(p, q, C)"
   ]
  },
  {
   "cell_type": "code",
   "execution_count": null,
   "metadata": {},
   "outputs": [],
   "source": []
  }
 ],
 "metadata": {
  "kernelspec": {
   "display_name": "Python 3",
   "language": "python",
   "name": "python3"
  },
  "language_info": {
   "codemirror_mode": {
    "name": "ipython",
    "version": 3
   },
   "file_extension": ".py",
   "mimetype": "text/x-python",
   "name": "python",
   "nbconvert_exporter": "python",
   "pygments_lexer": "ipython3",
   "version": "3.6.4"
  }
 },
 "nbformat": 4,
 "nbformat_minor": 2
}
