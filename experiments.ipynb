{
 "cells": [
  {
   "cell_type": "code",
   "execution_count": 1,
   "metadata": {},
   "outputs": [],
   "source": [
    "import numpy as np\n",
    "from numpy import exp, log\n",
    "from numpy.linalg import norm\n",
    "from numpy.random import random\n",
    "import matplotlib.pyplot as plt"
   ]
  },
  {
   "cell_type": "code",
   "execution_count": 2,
   "metadata": {},
   "outputs": [],
   "source": [
    "def generate_random_experiment(n):\n",
    "    C = random((n, n)) * 10\n",
    "    p = random((n, ))\n",
    "    p /= sum(p) / 10\n",
    "    q = random((n, ))\n",
    "    q /= sum(q) / 10\n",
    "    return C, p, q"
   ]
  },
  {
   "cell_type": "code",
   "execution_count": 11,
   "metadata": {},
   "outputs": [],
   "source": [
    "def sinkhorn(n, C, p, q, eps, gamma):\n",
    "    history = []\n",
    "    \n",
    "    m = np.ones(n)\n",
    "\n",
    "    X_new = X = 1/n**2 * np.ones((n, n))\n",
    "    t = 0\n",
    "    while not (sum(abs(norm(X_new, 1, axis=1) - p)) + sum(abs(norm(X_new, 1, axis=0) - q)) <= eps):\n",
    "        l = gamma * log(1/p * norm(exp(-(gamma + C + m) / gamma) * X + 1e-15, 1, axis=1))\n",
    "        m = gamma * log(1/q * norm(exp(-(gamma + C + l) / gamma) * X + 1e-15, 1, axis=1))\n",
    "        X_new = X * np.array(exp( -(gamma + C + np.matrix(l).T + m)/gamma ))\n",
    "\n",
    "        history.append(sum(abs(norm(X_new, 1, axis=1) - p)) + sum(abs(norm(X_new, 1, axis=0) - q)))\n",
    "        if t >= 10000:\n",
    "            break\n",
    "        t += 1\n",
    "    \n",
    "    return X_new, t, history"
   ]
  },
  {
   "cell_type": "code",
   "execution_count": 12,
   "metadata": {},
   "outputs": [],
   "source": [
    "n = 100\n",
    "C, p, q = generate_random_experiment(n)"
   ]
  },
  {
   "cell_type": "code",
   "execution_count": 19,
   "metadata": {},
   "outputs": [],
   "source": [
    "eps = 0.02\n",
    "gamma = eps /(4 * log(n))\n",
    "X, t, history = sinkhorn(n, C, p, q, eps, gamma)"
   ]
  },
  {
   "cell_type": "code",
   "execution_count": 20,
   "metadata": {},
   "outputs": [
    {
     "data": {
      "text/plain": [
       "10000"
      ]
     },
     "execution_count": 20,
     "metadata": {},
     "output_type": "execute_result"
    }
   ],
   "source": [
    "t"
   ]
  },
  {
   "cell_type": "code",
   "execution_count": 16,
   "metadata": {},
   "outputs": [],
   "source": [
    "eps = 0.02\n",
    "gamma = 10000\n",
    "tt = []\n",
    "gg = []\n",
    "t = 0\n",
    "\n",
    "while t < 10000:\n",
    "    gamma = gamma / 1.1\n",
    "    X, t, history = sinkhorn(n, C, p, q, eps, gamma)\n",
    "    gg.append(gamma)\n",
    "    tt.append(t)\n",
    "\n",
    "gamma *= 1.1"
   ]
  },
  {
   "cell_type": "code",
   "execution_count": 17,
   "metadata": {},
   "outputs": [
    {
     "data": {
      "text/plain": [
       "182.60271200148696"
      ]
     },
     "execution_count": 17,
     "metadata": {},
     "output_type": "execute_result"
    }
   ],
   "source": [
    "gamma"
   ]
  },
  {
   "cell_type": "code",
   "execution_count": 18,
   "metadata": {},
   "outputs": [
    {
     "data": {
      "text/plain": [
       "[<matplotlib.lines.Line2D at 0x11a1a1ef0>]"
      ]
     },
     "execution_count": 18,
     "metadata": {},
     "output_type": "execute_result"
    },
    {
     "data": {
      "image/png": "[encoded data removed]",
      "text/plain": [
       "<matplotlib.figure.Figure at 0x119fb22b0>"
      ]
     },
     "metadata": {},
     "output_type": "display_data"
    }
   ],
   "source": [
    "plt.plot(gg, tt)"
   ]
  },
  {
   "cell_type": "code",
   "execution_count": null,
   "metadata": {},
   "outputs": [],
   "source": []
  }
 ],
 "metadata": {
  "kernelspec": {
   "display_name": "Python 3",
   "language": "python",
   "name": "python3"
  },
  "language_info": {
   "codemirror_mode": {
    "name": "ipython",
    "version": 3
   },
   "file_extension": ".py",
   "mimetype": "text/x-python",
   "name": "python",
   "nbconvert_exporter": "python",
   "pygments_lexer": "ipython3",
   "version": "3.6.4"
  }
 },
 "nbformat": 4,
 "nbformat_minor": 2
}
