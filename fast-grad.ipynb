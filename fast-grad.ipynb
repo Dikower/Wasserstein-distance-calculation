{
 "cells": [
  {
   "cell_type": "code",
   "execution_count": 2,
   "metadata": {},
   "outputs": [],
   "source": [
    "import numpy as np\n",
    "import matplotlib.pyplot as plt"
   ]
  },
  {
   "cell_type": "code",
   "execution_count": 3,
   "metadata": {},
   "outputs": [],
   "source": [
    "class FastGrad:\n",
    "    def __init__(self, c, gamma, p=None, q=None, epochs=1000, debug=False):\n",
    "        \"\"\"\n",
    "        :param c: transport costs\n",
    "        :param gamma: regularizer multiplier\n",
    "        :param epochs: epochs amount\n",
    "        :param debug: allow debug output\n",
    "        \"\"\"\n",
    "        \n",
    "        # Transport problem variables\n",
    "        self.c = c # matrix\n",
    "        self.p = p or np.rand(c.shape[0])\n",
    "        self.q = q or np.rand(c.shape[1])\n",
    "        self.x = np.random.rand([epochs] + list(c.shape)) # matrix\n",
    "        self.gamma = gamma\n",
    "        \n",
    "        # Dual problem variables\n",
    "        self.lambda = np.zeros([epochs] + list(c.shape[0]))\n",
    "        self.mu = np.zeros([epochs] + list(c.shape[0]))\n",
    "        \n",
    "        # Nesterov momentum variables\n",
    "        self.alpha = np.zeros(epochs) # scalar\n",
    "        self.A = np.zeros(epochs) # scalar\n",
    "        self.y = np.zeros(shape=([epochs] + list(c.shape)) # matrix\n",
    "        self.U = self.x.copy() # matrix\n",
    "        self.L = 0 # scalar\n",
    "        self.epochs = 1\n",
    "        self.max_epochs = epochs\n",
    "        self.debug = debug\n",
    "        \n",
    "    def func(self, epoch):\n",
    "        return np.sum(self.x[epoch]*self.c) +\\\n",
    "                          self.gamma * np.sum(self.x[epoch]*np.log(self.x[epoch]/self.c.shape[0]**2))\n",
    "    \n",
    "    def dual_func(self, epoch):\n",
    "        return self.func(epoch) + np.sum(self.lambda[epoch]*(self.p - )) +\\\n",
    "                          np.sum(self.mu[epoch]*(self.q - ))\n",
    "    \n",
    "    def run(self):\n",
    "        while self.epochs < self.max_epochs:\n",
    "            self.alpha[self.epochs] = 1/(2*self.L) + np.sqrt(1/(L**2*4) + self.alpha[self.epochs-1]**2)\n",
    "            \n",
    "            self.A[self.epochs] = A[self.epochs-1] + self.alpha[self.epochs]\n",
    "            \n",
    "            self.y[self.epochs] = (self.alpha[self.epochs]*self.U[self.epochs-1] +\\\n",
    "                self.A[self.epochs-1]*self.x[self.epochs-1])/self.A[self.epochs-1]\n",
    "            \n",
    "            self.U[self.epochs] = self.y[self.epochs] -\\\n",
    "                self.alpha[self.epochs-1] * self.gradient(func(self.y[self.epochs]))\n",
    "            # TODO: change gradient func input\n",
    "                \n",
    "            self.x[self.epochs] = (self.alpha[self.epochs]*self.U[self.epochs] +\\\n",
    "                self.A[self.epochs-1]*self.x[self.epochs-1]) / self.A[self.epochs]\n",
    "            \n",
    "            if self.debug:\n",
    "                print(\"Epoch {self.epochs}:\\nx={self.x}\".format(self=self))\n",
    "            \n",
    "    # TODO: some tests\n",
    "    # TODO: stopping criteria\n",
    "    # TODO: calc average steps amount\n",
    "    # TODO: lambda :- u, mu :- v\n"
   ]
  },
  {
   "cell_type": "code",
   "execution_count": null,
   "metadata": {},
   "outputs": [],
   "source": []
  }
 ],
 "metadata": {
  "kernelspec": {
   "display_name": "Python 3",
   "language": "python",
   "name": "python3"
  },
  "language_info": {
   "codemirror_mode": {
    "name": "ipython",
    "version": 3
   },
   "file_extension": ".py",
   "mimetype": "text/x-python",
   "name": "python",
   "nbconvert_exporter": "python",
   "pygments_lexer": "ipython3",
   "version": "3.6.4"
  }
 },
 "nbformat": 4,
 "nbformat_minor": 2
}
