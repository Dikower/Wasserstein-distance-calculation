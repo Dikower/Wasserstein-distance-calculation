{
 "cells": [
  {
   "cell_type": "code",
   "execution_count": 2,
   "metadata": {},
   "outputs": [],
   "source": [
    "import numpy as np\n",
    "import matplotlib.pyplot as plt"
   ]
  },
  {
   "cell_type": "code",
   "execution_count": 3,
   "metadata": {},
   "outputs": [],
   "source": [
    "class FastGrad:\n",
    "    def __init__(self, func, v_dim, x_init=np.random.randint(100), epochs=1000, debug=False):\n",
    "        \"\"\"\n",
    "        :param func: function to optimize\n",
    "        :param v_dim: data vector dimensions\n",
    "        :param x_init: starting point\n",
    "        :param epochs: epochs amount\n",
    "        :param debug: allow debug output\n",
    "        \"\"\"\n",
    "        self.alpha = np.zeros(epochs) # scalar\n",
    "        self.A = np.zeros(epochs) # scalar\n",
    "        self.y = np.zeros(shape=[epochs, v_dim]) # vector\n",
    "        self.x = np.ones(shape=[epochs, v_dim])*x_init # vector\n",
    "        self.U = self.x.copy() # vector\n",
    "        self.L = 0 # scalar\n",
    "        self.epochs = 1\n",
    "        self.max_epochs = epochs\n",
    "        self.debug = debug\n",
    "        \n",
    "    def gradient(self):\n",
    "        # TODO: add gradient func\n",
    "        pass\n",
    "    \n",
    "    def run(self):\n",
    "        while epochs < max_epochs:\n",
    "            self.alpha[self.epochs] = 1/(2*self.L) + np.sqrt(1/(L**2*4) + self.alpha[self.epochs-1]**2)\n",
    "            \n",
    "            self.A[self.epochs] = A[self.epochs-1] + self.alpha[self.epochs]\n",
    "            \n",
    "            self.y[self.epochs] = (self.alpha[self.epochs]*self.U[self.epochs-1] +\\\n",
    "                self.A[self.epochs-1]*self.x[self.epochs-1])/self.A[self.epochs-1]\n",
    "            \n",
    "            self.U[epochs] = self.y[self.epochs] -\\\n",
    "                self.alpha[self.epochs-1] * self.gradient(func(self.y[self.epochs]))\n",
    "                \n",
    "            # TODO: finish the iteration cycle (add x update)\n",
    "            # TODO: add debug prints\n",
    "            \n",
    "    # TODO: some tests\n",
    "    # TODO: stopping criteria\n",
    "    # TODO: calc average steps amount"
   ]
  },
  {
   "cell_type": "code",
   "execution_count": null,
   "metadata": {},
   "outputs": [],
   "source": []
  }
 ],
 "metadata": {
  "kernelspec": {
   "display_name": "Python 3",
   "language": "python",
   "name": "python3"
  },
  "language_info": {
   "codemirror_mode": {
    "name": "ipython",
    "version": 3
   },
   "file_extension": ".py",
   "mimetype": "text/x-python",
   "name": "python",
   "nbconvert_exporter": "python",
   "pygments_lexer": "ipython3",
   "version": "3.6.4"
  }
 },
 "nbformat": 4,
 "nbformat_minor": 2
}
