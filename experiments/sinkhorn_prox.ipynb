{
 "cells": [
  {
   "cell_type": "code",
   "execution_count": 1,
   "metadata": {},
   "outputs": [],
   "source": [
    "import numpy as np\n",
    "from numpy import exp, log, sqrt\n",
    "from numpy.linalg import norm\n",
    "from numpy.random import random\n",
    "import matplotlib.pyplot as plt"
   ]
  },
  {
   "cell_type": "code",
   "execution_count": 2,
   "metadata": {},
   "outputs": [],
   "source": [
    "N = 4\n",
    "\n",
    "img1 = np.array([[2,   1,  2,  3],\n",
    "                 [4,   5,  6,  7],\n",
    "                 [8,   9, 10, 11],\n",
    "                 [12, 13, 14, 15]])\n",
    "\n",
    "img2 = np.array([[3,   1,  2,  3],\n",
    "                 [4,   5,  6,  7],\n",
    "                 [8,   9, 9, 11],\n",
    "                 [12, 14, 14, 15]])"
   ]
  },
  {
   "cell_type": "code",
   "execution_count": 3,
   "metadata": {},
   "outputs": [],
   "source": [
    "C = np.zeros((N ** 2, N ** 2))\n",
    "\n",
    "for i in range(N ** 2):\n",
    "    for j in range(N ** 2):\n",
    "        C[i, j] = norm(np.array([i // N, i % N]) - np.array([j // N, j % N]), 2)\n",
    "\n",
    "p = img1.reshape((N ** 2, ))\n",
    "p = p / sum(p)\n",
    "q = img2.reshape((N ** 2, ))\n",
    "q = q / sum(q)"
   ]
  },
  {
   "cell_type": "code",
   "execution_count": 62,
   "metadata": {},
   "outputs": [],
   "source": [
    "def sinkhorn(n, C, p, q, gamma, eps1, eps):\n",
    "    l = np.ones(n)\n",
    "    m = np.ones(n)\n",
    "\n",
    "    X_new = 1/n**2 * np.ones((n, n))\n",
    "    X_new_new = 1/n**2 * np.ones((n, n))\n",
    "    tt = 0\n",
    "    t = 0\n",
    "    while True:\n",
    "        tt += 1\n",
    "        X = np.array(X_new)\n",
    "        \n",
    "#         print(norm(X_new - X, 2))\n",
    "        while True:\n",
    "#             print(\"+1\")\n",
    "            \n",
    "            for i in range(n):\n",
    "                l[i] = gamma * log(1/p[i] * np.sum([exp(-(gamma + C[i, j] + m[j])/gamma) * X[i, j] for j in range(n)]))\n",
    "            for j in range(n):\n",
    "                m[j] = gamma * log(1/q[j] * np.sum([exp(-(gamma + C[i, j] + l[i])/gamma) * X[i, j] for i in range(n)]))\n",
    "            for i in range(n):\n",
    "                for j in range(n):\n",
    "                    X_new_new[i,j] = X[i, j] * exp(- (gamma + C[i,j] + l[i] + m[j])/gamma)\n",
    "            \n",
    "            if (sum(abs(norm(X_new_new, 1, axis=1) - p)) + sum(abs(norm(X_new_new, 1, axis=0) - q)) < eps) or norm(X_new_new - X_new, 2) < eps1:\n",
    "                X_new = X_new_new\n",
    "                break\n",
    "            X_new = X_new_new\n",
    "            \n",
    "            t += 1\n",
    "\n",
    "#         print(norm(X_new - X, 2))\n",
    "        if norm(X_new - X, 2) <= eps1:\n",
    "            break\n",
    "    return X_new, t, tt-1"
   ]
  },
  {
   "cell_type": "code",
   "execution_count": 68,
   "metadata": {},
   "outputs": [],
   "source": [
    "def test_gamma(method, gamma):\n",
    "    gamma_exp = []\n",
    "    T_exp = []\n",
    "    TT_exp = []\n",
    "    opt_point = 0\n",
    "\n",
    "    for _ in range(12):\n",
    "        gamma /= 1.2\n",
    "        X, T, __ = method(gamma)\n",
    "        gamma_exp.append(gamma)\n",
    "        T_exp.append(T)\n",
    "        TT_exp.append(__)\n",
    "        try:\n",
    "            if (opt_point == 0) and (T_exp[-1] - T_exp[-2]) / (gamma_exp[-2] - gamma_exp[-1]) >= 1:\n",
    "                opt_point = gamma\n",
    "        except:\n",
    "            pass\n",
    "    \n",
    "    return gamma_exp, T_exp, TT_exp, opt_point"
   ]
  },
  {
   "cell_type": "code",
   "execution_count": 75,
   "metadata": {},
   "outputs": [],
   "source": [
    "eps1 = 0.0001\n",
    "eps = 0.01\n",
    "gamma_exp, T_exp, TT_exp, opt_point = test_gamma(lambda gamma: sinkhorn(N ** 2, C, p, q, gamma, eps1, eps), gamma=1)"
   ]
  },
  {
   "cell_type": "code",
   "execution_count": 76,
   "metadata": {},
   "outputs": [
    {
     "data": {
      "text/plain": [
       "[<matplotlib.lines.Line2D at 0x116a0be80>]"
      ]
     },
     "execution_count": 76,
     "metadata": {},
     "output_type": "execute_result"
    },
    {
     "data": {
      "image/png": "[encoded data removed]",
      "text/plain": [
       "<matplotlib.figure.Figure at 0x116a0b668>"
      ]
     },
     "metadata": {},
     "output_type": "display_data"
    }
   ],
   "source": [
    "plt.plot(gamma_exp, TT_exp)\n",
    "plt.plot(gamma_exp, T_exp)"
   ]
  },
  {
   "cell_type": "code",
   "execution_count": null,
   "metadata": {},
   "outputs": [],
   "source": []
  }
 ],
 "metadata": {
  "kernelspec": {
   "display_name": "Python 3",
   "language": "python",
   "name": "python3"
  },
  "language_info": {
   "codemirror_mode": {
    "name": "ipython",
    "version": 3
   },
   "file_extension": ".py",
   "mimetype": "text/x-python",
   "name": "python",
   "nbconvert_exporter": "python",
   "pygments_lexer": "ipython3",
   "version": "3.6.4"
  }
 },
 "nbformat": 4,
 "nbformat_minor": 2
}
