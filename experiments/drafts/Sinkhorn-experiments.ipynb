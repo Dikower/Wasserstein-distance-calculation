{
 "cells": [
  {
   "cell_type": "code",
   "execution_count": 28,
   "metadata": {},
   "outputs": [],
   "source": [
    "import numpy as np\n",
    "import random\n",
    "from numpy import exp, log\n",
    "from numpy.linalg import norm\n",
    "import matplotlib.pyplot as plt"
   ]
  },
  {
   "cell_type": "code",
   "execution_count": 29,
   "metadata": {},
   "outputs": [
    {
     "data": {
      "text/html": [
       "<script>\n",
       " $('div.output_stderr').hide();\n",
       "</script>"
      ],
      "text/plain": [
       "<IPython.core.display.HTML object>"
      ]
     },
     "execution_count": 29,
     "metadata": {},
     "output_type": "execute_result"
    }
   ],
   "source": [
    "from IPython.display import HTML\n",
    "HTML('''<script>\n",
    " $('div.output_stderr').hide();\n",
    "</script>''')"
   ]
  },
  {
   "cell_type": "code",
   "execution_count": 37,
   "metadata": {},
   "outputs": [],
   "source": [
    "n = 4\n",
    "C = np.array([[1,  8, 2,  10 ],\n",
    "              [8,  1, 5,  1  ],\n",
    "              [2,  5, 1,  10 ], \n",
    "              [10, 1, 10, 1]])\n",
    "p = np.array([4, 6, 10, 10])  # i = 1, ..., n\n",
    "q = np.array([7, 7, 7, 9])  # j = 1, ..., n\n",
    "\n",
    "gamma = 1\n",
    "xk = 1/n**2 * np.ones((n, n))"
   ]
  },
  {
   "cell_type": "code",
   "execution_count": null,
   "metadata": {},
   "outputs": [],
   "source": []
  },
  {
   "cell_type": "code",
   "execution_count": 31,
   "metadata": {},
   "outputs": [],
   "source": [
    "def genExp(n):\n",
    "    random.seed()\n",
    "    C = np.ones((n,n))\n",
    "    p = np.ones(n)\n",
    "    q = np.ones(n)\n",
    "    for i in range(n):\n",
    "        for j in range(n):\n",
    "            r = random.random()\n",
    "            C[i, j] = r * 100\n",
    "            #C[j, i] = r\n",
    "            if j == i:\n",
    "                C[j, i] = 10\n",
    "        p[i] = random.random()\n",
    "        q[i] = random.random()\n",
    "    p = p / sum(p)\n",
    "    q = q / sum(q)\n",
    "    return C, p, q"
   ]
  },
  {
   "cell_type": "code",
   "execution_count": 32,
   "metadata": {},
   "outputs": [],
   "source": [
    "def cos(a, b):\n",
    "    return np.dot(a, b) / (np.linalg.norm(a) * np.linalg.norm(b))"
   ]
  },
  {
   "cell_type": "code",
   "execution_count": 33,
   "metadata": {},
   "outputs": [
    {
     "data": {
      "text/plain": [
       "0.0"
      ]
     },
     "execution_count": 33,
     "metadata": {},
     "output_type": "execute_result"
    }
   ],
   "source": [
    "N = 4\n",
    "i = np.linspace(0 , N ** 2 - 1, N ** 2)\n",
    "j = np.linspace(0 , N ** 2 - 1, N ** 2)\n",
    "a1 = i // N\n",
    "a2 = i % N\n",
    "a1 = j // N\n",
    "a2 = j % N\n",
    "a = np.array([ i // N, i % N])\n",
    "b = np.array([j // N, j % N])\n",
    "C = norm(np.array([ i // N, i % N]) - np.array([j // N, j % N]), 2)\n",
    "C"
   ]
  },
  {
   "cell_type": "code",
   "execution_count": 45,
   "metadata": {},
   "outputs": [],
   "source": [
    "eps = 1e-6\n",
    "\n",
    "\n",
    "def synkhornIt(C, p, q, gamma, eps, eps1):\n",
    "    eps = 1e-3\n",
    "    eps1 = 1e-7\n",
    "    n = p.shape[0]\n",
    "    l = np.ones(n)\n",
    "    m = np.ones(n)\n",
    "\n",
    "    X_new = 1/n**2 * np.ones((n, n))\n",
    "    t = 0\n",
    "    tt = 0\n",
    "    while True:\n",
    "        tt += 1\n",
    "        X = X_new\n",
    "        while not (sum(abs(norm(X_new, 1, axis=1) - p)) + sum(abs(norm(X_new, 1, axis=0) - q)) <= eps):\n",
    "            \n",
    "            for i in range(n):\n",
    "                l[i] = gamma * log(1/p[i] * sum([exp(-(gamma + C[i, j] + m[j])/gamma) * X[i, j] for j in range(n)]))\n",
    "            for j in range(n):\n",
    "                m[j] = gamma * log(1/q[j] * sum([exp(-(gamma + C[i, j] + l[i])/gamma) * X[i, j] for i in range(n)]))\n",
    "            for i in range(n):\n",
    "                for j in range(n):\n",
    "                    X[i,j] = X[i, j] * exp(- (gamma + C[i,j] + l[i] + m[j])/gamma)\n",
    "            #X_new = X * np.array(exp( -(gamma + C + np.matrix(l).T + m)/gamma ))\n",
    "            t += 1\n",
    "\n",
    "        if norm(X_new - X, 2) <= eps1:\n",
    "            break\n",
    "    return X_new, tt, t\n",
    "\n",
    "def synkhorn (C, p, q, gamma, eps, eps1):\n",
    "    p = p / sum(p)\n",
    "    q = q / sum(q)\n",
    "    n = C.shape[0]\n",
    "    xk = 1/n**2 * np.ones((n, n))\n",
    "    l = np.ones(n)\n",
    "    m = np.ones(n)\n",
    "    X = np.ones((n, n)) * 1/(n**2)\n",
    "    t = 0\n",
    "    X_new = 1/n**2 * np.ones((n, n))\n",
    "    t = 0\n",
    "    tt = 0\n",
    "    while True:\n",
    "        X = X_new\n",
    "        while not (sum(abs(norm(X_new, 1, axis=1) - p)) + sum(abs(norm(X_new, 1, axis=0) - q)) <= eps):\n",
    "            \n",
    "            l = gamma * log(1/p * norm(exp(-(gamma + C + m) / gamma) * X, 1, axis=1))\n",
    "            m = gamma * log(1/q * norm(exp(-(gamma + C + l) / gamma) * X, 1, axis=1))\n",
    "            X_new = X * np.array(exp( -(gamma + C + np.matrix(l).T + m)/gamma ))\n",
    "            t += 1\n",
    "            print(t, sum(abs(norm(X_new, 1, axis=1) - p)) + sum(abs(norm(X_new, 1, axis=0) - q)))\n",
    "        if norm(X_new - X, 2) <= eps1:\n",
    "            break\n",
    "        tt += 1\n",
    "    return X_new, tt, t"
   ]
  },
  {
   "cell_type": "code",
   "execution_count": null,
   "metadata": {},
   "outputs": [
    {
     "name": "stdout",
     "output_type": "stream",
     "text": [
      "0.07142857142857142\n",
      "0.14285714285714285\n",
      "0.21428571428571427\n",
      "0.2857142857142857\n",
      "0.35714285714285715\n",
      "0.42857142857142855\n",
      "0.5\n",
      "0.5714285714285714\n",
      "0.6428571428571429\n"
     ]
    },
    {
     "name": "stderr",
     "output_type": "stream",
     "text": [
      "/home/peter/.local/lib/python3.5/site-packages/ipykernel_launcher.py:25: RuntimeWarning: overflow encountered in exp\n",
      "/home/peter/.local/lib/python3.5/site-packages/ipykernel_launcher.py:25: RuntimeWarning: invalid value encountered in double_scalars\n"
     ]
    }
   ],
   "source": [
    "n_test = 15\n",
    "\n",
    "C, p, q = genExp(n_test)\n",
    "eps = 1e-3\n",
    "eps1 = 1e-7\n",
    "tts = []\n",
    "gms = []\n",
    "gamma = 1000\n",
    "C, p, q = genExp(n_test)\n",
    "for i in range(14):\n",
    "    gamma /= 2\n",
    "    X, tt, t = synkhornIt(C, p, q, gamma, eps, eps1)\n",
    "    gms.append(gamma)\n",
    "    tts.append(t)\n",
    "    print((i+1)/14)\n",
    "    "
   ]
  },
  {
   "cell_type": "code",
   "execution_count": 67,
   "metadata": {},
   "outputs": [
    {
     "name": "stdout",
     "output_type": "stream",
     "text": [
      "[(500.0, 4), (250.0, 4), (125.0, 12), (62.5, 32), (31.25, 62), (15.625, 206), (7.8125, 319), (3.90625, 589)]\n"
     ]
    },
    {
     "data": {
      "text/plain": [
       "[<matplotlib.lines.Line2D at 0x7f1b308f4ac8>]"
      ]
     },
     "execution_count": 67,
     "metadata": {},
     "output_type": "execute_result"
    },
    {
     "data": {
      "image/png": "[encoded data removed]",
      "text/plain": [
       "<Figure size 432x288 with 1 Axes>"
      ]
     },
     "metadata": {},
     "output_type": "display_data"
    }
   ],
   "source": [
    "gts = [(5.0, 22), (2.5, 13), (1.25, 14), (0.625, 20), (0.3125, 25), (0.15625, 31), (0.078125, 45), (0.0390625, 73)]\n",
    "print(list(zip(gms, tts)))\n",
    "plt.plot(gms, tts)"
   ]
  },
  {
   "cell_type": "code",
   "execution_count": null,
   "metadata": {},
   "outputs": [],
   "source": []
  }
 ],
 "metadata": {
  "kernelspec": {
   "display_name": "Python 3",
   "language": "python",
   "name": "python3"
  },
  "language_info": {
   "codemirror_mode": {
    "name": "ipython",
    "version": 3
   },
   "file_extension": ".py",
   "mimetype": "text/x-python",
   "name": "python",
   "nbconvert_exporter": "python",
   "pygments_lexer": "ipython3",
   "version": "3.5.2"
  }
 },
 "nbformat": 4,
 "nbformat_minor": 2
}
