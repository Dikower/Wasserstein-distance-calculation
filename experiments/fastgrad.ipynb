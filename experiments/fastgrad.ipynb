{
 "cells": [
  {
   "cell_type": "code",
   "execution_count": 1,
   "metadata": {},
   "outputs": [],
   "source": [
    "import numpy as np"
   ]
  },
  {
   "cell_type": "code",
   "execution_count": 18,
   "metadata": {},
   "outputs": [],
   "source": [
    "class FastGradientDescent:\n",
    "    def __init__(self, gamma, n=5, epsilon=0.01):\n",
    "        self.alpha = 0\n",
    "        self.a     = 0\n",
    "        \n",
    "        # constants\n",
    "        self.epsilon = epsilon\n",
    "        self.gamma = gamma\n",
    "        self.l     = 1 / gamma\n",
    "        self.n     = n\n",
    "        \n",
    "        self.u_lambda = np.ones(n) / n**2\n",
    "        self.u_mu     = np.ones(n) / n**2\n",
    "         \n",
    "        self.y_lambda = np.zeros(n)\n",
    "        self.y_mu     = np.zeros(n)\n",
    "        \n",
    "        self.x_lambda = np.zeros(n)\n",
    "        self.x_mu     = np.zeros(n)\n",
    "        \n",
    "        self.x_lambda   = np.zeros([n])\n",
    "        self.x_mu       = np.zeros([n])\n",
    "        \n",
    "        self.x_0 = np.ones([n, n]) / (n**2)\n",
    "        \n",
    "    def _get_x(self, c):\n",
    "        a = self.x_0 * np.exp(-(self.gamma + c + self.x_lambda.repeat(self.n).reshape(-1, self.n) +\\\n",
    "                                self.x_mu.repeat(self.n).reshape(-1, self.n).T))\n",
    "        \n",
    "        return a / a.sum()\n",
    "    \n",
    "    def __new_alpha(self):\n",
    "        return 1 / (2 * self.l) + np.sqrt(1 / (4 * (self.l**2)) + self.alpha**2)\n",
    "    \n",
    "    def __new_a(self):\n",
    "        return self.a + self.__new_alpha()\n",
    "    \n",
    "    def _new_y(self):\n",
    "        return (self.__new_alpha() * self.u_lambda + self.a * self.x_lambda) / self.__new_a(),\\\n",
    "               (self.__new_alpha() * self.u_mu + self.a * self.x_mu) / self.__new_a()\n",
    "        \n",
    "        \n",
    "    def _new_u(self, c, p, q):\n",
    "        x_hat = self._get_x(c)\n",
    "        \n",
    "        return self.u_lambda - self.alpha * (p - x_hat.sum(1)),\\\n",
    "               self.u_mu - self.alpha * (q - x_hat.sum(0))\n",
    "    \n",
    "    def _new_x(self):\n",
    "        return (self.alpha * self.u_lambda + self.a * self.x_lambda) / self.__new_a(),\\\n",
    "                (self.alpha * self.u_mu + self.a * self.x_mu) / self.__new_a()\n",
    "    \n",
    "    def fit(self, c, p, q):\n",
    "        k = 0\n",
    "        while True:\n",
    "            k+=1\n",
    "            self.y_lambda, self.y_mu = self._new_y()\n",
    "            self.u_lambda, self.u_mu = self._new_u(c, p, q)\n",
    "            self.x_lambda, self.x_mu = self._new_x()\n",
    "            \n",
    "            self.alpha = self.__new_alpha()\n",
    "            self.a     = self.__new_a()\n",
    "            \n",
    "            x_hat = self._get_x(c)\n",
    "            if (((p - x_hat.sum(1))**2).sum() + ((q - x_hat.sum(0))**2).sum()) < self.epsilon: \n",
    "                return self._get_x(c), k"
   ]
  },
  {
   "cell_type": "code",
   "execution_count": 23,
   "metadata": {},
   "outputs": [],
   "source": [
    "fgd = FastGradientDescent(0.5)"
   ]
  },
  {
   "cell_type": "code",
   "execution_count": 24,
   "metadata": {},
   "outputs": [],
   "source": [
    "def sample_batch(n):\n",
    "    C = np.random.uniform(0, 10, size=[n, n])\n",
    "    p = np.random.dirichlet(np.ones(5), size=1).ravel()\n",
    "    q = np.random.dirichlet(np.ones(5), size=1).ravel()\n",
    "    return C, p, q"
   ]
  },
  {
   "cell_type": "code",
   "execution_count": 27,
   "metadata": {},
   "outputs": [],
   "source": [
    "def fastgrad(gamma, c, p, q):\n",
    "    fgrad = FastGradientDescent(gamma)\n",
    "    return fgrad.fit(c, p, q)"
   ]
  },
  {
   "cell_type": "code",
   "execution_count": 20,
   "metadata": {},
   "outputs": [
    {
     "data": {
      "text/plain": [
       "<matplotlib.image.AxesImage at 0x7f7aa9c473c8>"
      ]
     },
     "execution_count": 20,
     "metadata": {},
     "output_type": "execute_result"
    },
    {
     "data": {
      "image/png": "[encoded data removed]",
      "text/plain": [
       "<matplotlib.figure.Figure at 0x7f7aa9cd50f0>"
      ]
     },
     "metadata": {},
     "output_type": "display_data"
    }
   ],
   "source": [
    "gammas = np.linspace(0.001, 2, num=25)    \n",
    "    \n",
    "    \n",
    "n_iterations = list()\n",
    "for gamma in gammas:\n",
    "    for c, p, q in sample_batch(n, n_exp):\n",
    "        n_iterations.append(method(c, p, q, gamma))\n",
    "\n",
    "return np.array(n_iterations).reshape(-1, n_exp).sum(-1)"
   ]
  }
 ],
 "metadata": {
  "kernelspec": {
   "display_name": "Python 3",
   "language": "python",
   "name": "python3"
  },
  "language_info": {
   "codemirror_mode": {
    "name": "ipython",
    "version": 3
   },
   "file_extension": ".py",
   "mimetype": "text/x-python",
   "name": "python",
   "nbconvert_exporter": "python",
   "pygments_lexer": "ipython3",
   "version": "3.6.4"
  }
 },
 "nbformat": 4,
 "nbformat_minor": 2
}
