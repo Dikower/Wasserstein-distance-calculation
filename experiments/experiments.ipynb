{
 "cells": [
  {
   "cell_type": "code",
   "execution_count": 1,
   "metadata": {},
   "outputs": [],
   "source": [
    "import math\n",
    "import numpy as np\n",
    "from lib import FastGradientMethod\n",
    "from lib import SinkhornMethod\n",
    "from lib import Experiments\n",
    "\n",
    "import matplotlib.pyplot as plt\n",
    "%matplotlib inline"
   ]
  },
  {
   "cell_type": "code",
   "execution_count": 2,
   "metadata": {},
   "outputs": [],
   "source": [
    "def fastgrad(C, p, q, gamma=0.1, eps=0.01, log=False):\n",
    "    fgm = FastGradientMethod(gamma, n=p.shape[0], epsilon=eps, log=log)\n",
    "    x, iterations_num = fgm.fit(C, p, q)\n",
    "    return x, iterations_num, 0\n",
    "\n",
    "def sinkhorn(C, p, q, gamma=0.1, eps=0.01, log=False):\n",
    "    sm = SinkhornMethod(gamma, n=p.shape[0], epsilon=eps, log=log)\n",
    "    x, inner_iterations_num, outer_iterations_num = sm.fit(C, p, q)\n",
    "    return x, inner_iterations_num, outer_iterations_num"
   ]
  },
  {
   "cell_type": "code",
   "execution_count": 3,
   "metadata": {},
   "outputs": [
    {
     "data": {
      "image/png": "[encoded data removed]",
      "text/plain": [
       "<matplotlib.figure.Figure at 0x10b536ef0>"
      ]
     },
     "metadata": {},
     "output_type": "display_data"
    }
   ],
   "source": [
    "C, p, q = Experiments.load_data('1.png', '2.png')"
   ]
  },
  {
   "cell_type": "code",
   "execution_count": 4,
   "metadata": {},
   "outputs": [
    {
     "name": "stdout",
     "output_type": "stream",
     "text": [
      "–––––––––––––––––––––––––––––\n",
      "Algorithm configuration:\n",
      "gamma = 0.1\n",
      "eps = 0.01\n",
      "–––––––––––––––––––––––––––––\n",
      "\n",
      "Iteration 100: metric = 0.0315 > 0.01\n",
      "Iteration 200: metric = 0.0112 > 0.01\n",
      "Iteration 232: metric = 0.0099 < 0.01\n"
     ]
    },
    {
     "data": {
      "image/png": "[encoded data removed]",
      "text/plain": [
       "<matplotlib.figure.Figure at 0x1101acfd0>"
      ]
     },
     "metadata": {},
     "output_type": "display_data"
    }
   ],
   "source": [
    "x, iterations_num, _ = fastgrad(C, p, q, log=True)\n",
    "Experiments.visualize_x(x, p.shape[0])"
   ]
  },
  {
   "cell_type": "code",
   "execution_count": 5,
   "metadata": {},
   "outputs": [
    {
     "name": "stdout",
     "output_type": "stream",
     "text": [
      "–––––––––––––––––––––––––––––\n",
      "Algorithm configuration:\n",
      "gamma = 1\n",
      "eps = 0.01\n",
      "eps with ~ = 0.0007\n",
      "eps prox = 0.001\n",
      "–––––––––––––––––––––––––––––\n",
      "\n",
      "Inner iteration 20: metric (one) = 0.0003 > 0.01 or metric (two) = -0.0013 > 0.0001\n",
      "Inner iteration 20: metric (one) = 0.0003 < 0.01 and metric (two) = -0.0013 < 0.0001\n",
      "– Outer iteration 0: metric = 0.044 > 0.001\n",
      "Inner iteration 20: metric (one) = 0.0002 > 0.01 or metric (two) = 0.0001 > 0.0003\n",
      "Inner iteration 20: metric (one) = 0.0002 < 0.01 and metric (two) = 0.0001 < 0.0003\n",
      "– Outer iteration 1: metric = 0.0189 > 0.001\n",
      "Inner iteration 20: metric (one) = 0.0005 > 0.01 or metric (two) = -0.0004 > 0.0004\n",
      "Inner iteration 20: metric (one) = 0.0005 < 0.01 and metric (two) = -0.0004 < 0.0004\n",
      "– Outer iteration 2: metric = 0.0123 > 0.001\n",
      "Inner iteration 20: metric (one) = 0.0005 > 0.01 or metric (two) = -0.0006 > 0.0004\n",
      "Inner iteration 20: metric (one) = 0.0005 < 0.01 and metric (two) = -0.0006 < 0.0004\n",
      "– Outer iteration 3: metric = 0.0061 > 0.001\n",
      "Inner iteration 20: metric (one) = 0.0004 > 0.01 or metric (two) = -0.0007 > 0.0004\n",
      "Inner iteration 20: metric (one) = 0.0004 < 0.01 and metric (two) = -0.0007 < 0.0004\n",
      "– Outer iteration 4: metric = 0.0035 > 0.001\n",
      "Inner iteration 20: metric (one) = 0.0004 > 0.01 or metric (two) = -0.0007 > 0.0004\n",
      "Inner iteration 20: metric (one) = 0.0004 < 0.01 and metric (two) = -0.0007 < 0.0004\n",
      "– Outer iteration 5: metric = 0.0027 > 0.001\n",
      "Inner iteration 20: metric (one) = 0.0003 > 0.01 or metric (two) = -0.0007 > 0.0004\n",
      "Inner iteration 20: metric (one) = 0.0003 < 0.01 and metric (two) = -0.0007 < 0.0004\n",
      "– Outer iteration 6: metric = 0.0023 > 0.001\n",
      "Inner iteration 20: metric (one) = 0.0002 > 0.01 or metric (two) = -0.0005 > 0.0004\n",
      "Inner iteration 20: metric (one) = 0.0002 < 0.01 and metric (two) = -0.0005 < 0.0004\n",
      "– Outer iteration 7: metric = 0.0019 > 0.001\n",
      "Inner iteration 20: metric (one) = 0.0001 > 0.01 or metric (two) = -0.0003 > 0.0004\n",
      "Inner iteration 20: metric (one) = 0.0001 < 0.01 and metric (two) = -0.0003 < 0.0004\n",
      "– Outer iteration 8: metric = 0.0015 > 0.001\n",
      "Inner iteration 20: metric (one) = 0.0001 > 0.01 or metric (two) = -0.0 > 0.0004\n",
      "Inner iteration 20: metric (one) = 0.0001 < 0.01 and metric (two) = -0.0 < 0.0004\n",
      "– Outer iteration 9: metric = 0.0013 > 0.001\n",
      "Inner iteration 20: metric (one) = 0.0001 > 0.01 or metric (two) = 0.0001 > 0.0004\n",
      "Inner iteration 20: metric (one) = 0.0001 < 0.01 and metric (two) = 0.0001 < 0.0004\n",
      "– Outer iteration 10: metric = 0.001 > 0.001\n",
      "Inner iteration 20: metric (one) = 0.0002 > 0.01 or metric (two) = 0.0002 > 0.0004\n",
      "Inner iteration 20: metric (one) = 0.0002 < 0.01 and metric (two) = 0.0002 < 0.0004\n",
      "– Outer iteration 11: metric = 0.0009 > 0.001\n",
      "– Outer iteration 12: metric = 0.0009 < 0.001\n"
     ]
    },
    {
     "data": {
      "image/png": "[encoded data removed]",
      "text/plain": [
       "<matplotlib.figure.Figure at 0x1102239e8>"
      ]
     },
     "metadata": {},
     "output_type": "display_data"
    }
   ],
   "source": [
    "x, inner_iterations_num, outer_iterations_num = sinkhorn(C, p, q, gamma=1, log=True)\n",
    "Experiments.visualize_x(x, p.shape[0])"
   ]
  },
  {
   "cell_type": "code",
   "execution_count": null,
   "metadata": {},
   "outputs": [],
   "source": [
    "epsilons, gammas, iterations = Experiments.test(C, p, q, \n",
    "                                                config={'eps': (0.01, 0.01, 1), \n",
    "                                                        'gamma': (10, 1, 2)},\n",
    "                                                methods=[fastgrad, sinkhorn])"
   ]
  },
  {
   "cell_type": "code",
   "execution_count": 15,
   "metadata": {},
   "outputs": [
    {
     "data": {
      "text/plain": [
       "array([[[ 87, 101, 121, 150, 191, 248, 330],\n",
       "        [ 37,  51,  71, 100, 141, 198, 280]]])"
      ]
     },
     "execution_count": 15,
     "metadata": {},
     "output_type": "execute_result"
    }
   ],
   "source": [
    "iterations"
   ]
  },
  {
   "cell_type": "code",
   "execution_count": 25,
   "metadata": {},
   "outputs": [
    {
     "data": {
      "text/plain": [
       "[<matplotlib.lines.Line2D at 0x11c519630>,\n",
       " <matplotlib.lines.Line2D at 0x11c519780>]"
      ]
     },
     "execution_count": 25,
     "metadata": {},
     "output_type": "execute_result"
    },
    {
     "data": {
      "image/png": "[encoded data removed]",
      "text/plain": [
       "<matplotlib.figure.Figure at 0x11c3e8550>"
      ]
     },
     "metadata": {},
     "output_type": "display_data"
    }
   ],
   "source": [
    "plt.plot(iterations[0].T)"
   ]
  },
  {
   "cell_type": "code",
   "execution_count": null,
   "metadata": {},
   "outputs": [],
   "source": []
  }
 ],
 "metadata": {
  "kernelspec": {
   "display_name": "Python 3",
   "language": "python",
   "name": "python3"
  },
  "language_info": {
   "codemirror_mode": {
    "name": "ipython",
    "version": 3
   },
   "file_extension": ".py",
   "mimetype": "text/x-python",
   "name": "python",
   "nbconvert_exporter": "python",
   "pygments_lexer": "ipython3",
   "version": "3.6.4"
  }
 },
 "nbformat": 4,
 "nbformat_minor": 2
}
