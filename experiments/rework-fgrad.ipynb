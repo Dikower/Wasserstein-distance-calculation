{
 "cells": [
  {
   "cell_type": "code",
   "execution_count": 37,
   "metadata": {},
   "outputs": [
    {
     "data": {
      "text/plain": [
       "{'divide': 'raise', 'invalid': 'raise', 'over': 'raise', 'under': 'raise'}"
      ]
     },
     "execution_count": 37,
     "metadata": {},
     "output_type": "execute_result"
    }
   ],
   "source": [
    "import numpy as np\n",
    "np.seterr(all='raise')"
   ]
  },
  {
   "cell_type": "code",
   "execution_count": 185,
   "metadata": {},
   "outputs": [],
   "source": [
    "class FastGradMethod:\n",
    "    def __init__(self, gamma, n, epsilon):\n",
    "        self.alpha = 0\n",
    "        self.a     = 0\n",
    "        \n",
    "        # constants\n",
    "        self.epsilon = epsilon\n",
    "        self.gamma = gamma\n",
    "        self.l     = 1 / gamma\n",
    "        self.n     = n\n",
    "        \n",
    "        self.u_lambda = np.ones([n])\n",
    "        self.u_mu     = np.ones([n])\n",
    "         \n",
    "        self.y_lambda = np.zeros(n)\n",
    "        self.y_mu     = np.zeros(n)\n",
    "        \n",
    "        self.x_lambda   = np.ones([n])\n",
    "        self.x_mu       = np.ones([n])\n",
    "        \n",
    "        self.alpha_x_sum = 0\n",
    "        \n",
    "        self.x_0 = np.ones([n, n]) / (n**2)\n",
    "        \n",
    "    def x_hat(self, c):\n",
    "        n = self.n\n",
    "        b = self.x_0 * np.exp(\n",
    "            -(self.gamma + c + self.y_lambda.repeat(n).reshape(-1, n) + self.y_mu.repeat(n).reshape(-1, n).T) / self.gamma\n",
    "        )  \n",
    "        return b / b.sum()\n",
    "    \n",
    "    def x_wave(self, c):\n",
    "        return self.alpha_x_sum * 1 / self.a\n",
    "    \n",
    "    def __new_alpha(self):\n",
    "        return 1 / (2 * self.l) + np.sqrt(1 / (4 * (self.l**2)) + self.alpha**2)\n",
    "    \n",
    "    def __new_a(self, new_alpha):\n",
    "        return self.a + self.__new_alpha()\n",
    "    \n",
    "    def __new_y(self):\n",
    "        new_a = self.__new_a(self.__new_alpha())\n",
    "        return (self.__new_alpha() * self.u_lambda + self.a * self.x_lambda) / new_a,\\\n",
    "               (self.__new_alpha() * self.u_mu + self.a * self.x_mu) / new_a\n",
    "    \n",
    "    def __new_u(self, c, p, q):\n",
    "        x_hat = self.x_hat(c)\n",
    "        return self.u_lambda - self.__new_alpha() * (p - x_hat.sum(1)),\\\n",
    "               self.u_mu - self.__new_alpha() * (q - x_hat.sum(0))\n",
    "        \n",
    "    def __new_x(self):\n",
    "        new_alpha = self.__new_alpha()\n",
    "        new_a = self.__new_a(new_alpha)\n",
    "        return (new_alpha * self.u_lambda + self.a * self.x_lambda) / new_a,\\\n",
    "               (new_alpha * self.u_mu + self.a * self.x_mu) / new_a\n",
    "    \n",
    "    def f(self, c, x_wave):\n",
    "        return np.sum(c * x_wave) + self.gamma * np.sum(x_wave * np.log(x_wave / self.x_0))\n",
    "        \n",
    "    def phi(self, c, lambda_x, mu_x):\n",
    "        n = self.n\n",
    "        return -np.sum(lambda_x * p) - np.sum(mu_x * q) +\\\n",
    "        self.gamma * np.log(1 / np.exp(1) * np.sum(\n",
    "            self.x_0 * np.exp(\n",
    "                -(self.gamma + c + lambda_x.repeat(n).reshape(-1, n) + mu_x.repeat(n).reshape(-1, n).T) / self.gamma\n",
    "            )\n",
    "        ))\n",
    "    \n",
    "    def fit(self, c, p, q):\n",
    "        k = 0\n",
    "        while True:\n",
    "            k+=1\n",
    "            self.y_lambda, self.y_mu = self.__new_y()          \n",
    "            self.u_lambda, self.u_mu = self.__new_u(c, p, q)            \n",
    "            self.x_lambda, self.x_mu = self.__new_x()\n",
    "            \n",
    "            self.alpha = self.__new_alpha()\n",
    "            self.a     = self.__new_a(self.alpha)\n",
    "            \n",
    "            self.alpha_x_sum += self.alpha * self.x_hat(c)\n",
    "            \n",
    "            x_wave = self.x_wave(c)\n",
    "            r = np.sqrt((self.x_lambda**2).sum() + (self.x_mu**2).sum())\n",
    "            epsilon_wave = self.epsilon / r\n",
    "            \n",
    "            criteria_a = np.sqrt(np.sum((x_wave.sum(1) - p)**2) + np.sum((x_wave.sum(0) - q)**2)) <= epsilon_wave\n",
    "            criteria_b = self.f(c, x_wave) - self.phi(c, p, q) <= self.epsilon\n",
    "            \n",
    "            if k % 100 == 0:\n",
    "                print(f\"k = {k}, criteria a: {np.sqrt(np.sum((x_wave.sum(1) - p)**2) + np.sum((x_wave.sum(0) - q)**2))}, criteria b: {self.f(c, x_wave) - self.phi(c, p, q)}\")\n",
    "            \n",
    "            if criteria_a and criteria_b or k == 5000:\n",
    "                return k"
   ]
  },
  {
   "cell_type": "code",
   "execution_count": 186,
   "metadata": {},
   "outputs": [],
   "source": [
    "fgrad = FastGradMethod(10, 8, 0.01)"
   ]
  },
  {
   "cell_type": "code",
   "execution_count": 187,
   "metadata": {},
   "outputs": [],
   "source": [
    "def sample_batch(n):\n",
    "    C = np.random.uniform(0, 10, size=[n, n])\n",
    "    p = np.random.dirichlet(np.ones(n), size=1).ravel()\n",
    "    q = np.random.dirichlet(np.ones(n), size=1).ravel()\n",
    "    return C, p, q"
   ]
  },
  {
   "cell_type": "code",
   "execution_count": 188,
   "metadata": {},
   "outputs": [],
   "source": [
    "c, p, q = sample_batch(8)"
   ]
  },
  {
   "cell_type": "code",
   "execution_count": 189,
   "metadata": {},
   "outputs": [
    {
     "name": "stdout",
     "output_type": "stream",
     "text": [
      "k = 100, criteria a: 0.012027513330847521, criteria b: 33.044464154267146\n",
      "k = 200, criteria a: 0.005978269909690961, criteria b: 33.255868815104506\n",
      "k = 300, criteria a: 0.003977919371002246, criteria b: 33.32328368074158\n",
      "k = 400, criteria a: 0.0029821784743357693, criteria b: 33.35608903853376\n",
      "k = 500, criteria a: 0.0023855564143676817, criteria b: 33.37551748876457\n",
      "k = 600, criteria a: 0.001987761688306545, criteria b: 33.38840158482401\n",
      "k = 700, criteria a: 0.0017037001446300335, criteria b: 33.39755675113966\n",
      "k = 800, criteria a: 0.0014907486344428002, criteria b: 33.404389483745284\n",
      "k = 900, criteria a: 0.0013251281605666662, criteria b: 33.40968901401862\n",
      "k = 1000, criteria a: 0.0011926238068406534, criteria b: 33.413920628107\n",
      "k = 1100, criteria a: 0.001084219442177453, criteria b: 33.417375742948146\n",
      "k = 1200, criteria a: 0.0009938877847337072, criteria b: 33.42025005274214\n",
      "k = 1300, criteria a: 0.0009174512707286908, criteria b: 33.42267929041586\n",
      "k = 1400, criteria a: 0.0008519332677808876, criteria b: 33.42475929762238\n",
      "k = 1500, criteria a: 0.0007951517010436341, criteria b: 33.426560123964606\n",
      "k = 1600, criteria a: 0.0007454674918215322, criteria b: 33.42813452781722\n",
      "k = 1700, criteria a: 0.0007016275915214567, criteria b: 33.429522748803464\n",
      "k = 1800, criteria a: 0.0006626583684659258, criteria b: 33.430755923443975\n",
      "k = 1900, criteria a: 0.0006277908720963126, criteria b: 33.43185863956901\n",
      "k = 2000, criteria a: 0.0005964096553746569, criteria b: 33.43285058139775\n",
      "k = 2100, criteria a: 0.0005680166943654555, criteria b: 33.433747643729774\n",
      "k = 2200, criteria a: 0.0005422045965685711, criteria b: 33.43456280937787\n",
      "k = 2300, criteria a: 0.0005186367266837379, criteria b: 33.43530680591662\n",
      "k = 2400, criteria a: 0.0004970325443631379, criteria b: 33.435988567466424\n",
      "k = 2500, criteria a: 0.0004771564378039926, criteria b: 33.43661558810339\n",
      "k = 2600, criteria a: 0.0004588090377228903, criteria b: 33.4371942054506\n",
      "k = 2700, criteria a: 0.00044182049340547397, criteria b: 33.437729817100106\n",
      "k = 2800, criteria a: 0.0004260452238022115, criteria b: 33.43822704625076\n",
      "k = 2900, criteria a: 0.0004113577331814619, criteria b: 33.438689875637195\n",
      "k = 3000, criteria a: 0.00039764925382476717, criteria b: 33.43912175582151\n",
      "k = 3100, criteria a: 0.00038482505021648764, criteria b: 33.439525691007375\n",
      "k = 3200, criteria a: 0.00037280223031567033, criteria b: 33.43990430851493\n",
      "k = 3300, criteria a: 0.0003615079492423562, criteria b: 33.44025991627997\n",
      "k = 3400, criteria a: 0.00035087793055616536, criteria b: 33.4405945501051\n",
      "k = 3500, criteria a: 0.0003408552433646043, criteria b: 33.44091001249709\n",
      "k = 3600, criteria a: 0.0003313892824297158, criteria b: 33.44120790511688\n",
      "k = 3700, criteria a: 0.00032243491279621976, criteria b: 33.441489656061876\n",
      "k = 3800, criteria a: 0.00031395175005815434, criteria b: 33.44175654275766\n",
      "k = 3900, criteria a: 0.00030590355160434277, criteria b: 33.442009711287845\n",
      "k = 4000, criteria a: 0.0002982576988497092, criteria b: 33.44225019285841\n",
      "k = 4100, criteria a: 0.0002909847551967274, criteria b: 33.442478917851886\n",
      "k = 4200, criteria a: 0.00028405808730702664, criteria b: 33.442696727849395\n",
      "k = 4300, criteria a: 0.00027745353918938546, criteria b: 33.44290438597434\n",
      "k = 4400, criteria a: 0.00027114915066526226, criteria b: 33.44310258583115\n",
      "k = 4500, criteria a: 0.0002651249133968442, criteria b: 33.44329195924635\n",
      "k = 4600, criteria a: 0.000259362558759038, criteria b: 33.443473082994814\n",
      "k = 4700, criteria a: 0.00025384537277639145, criteria b: 33.44364648466787\n",
      "k = 4800, criteria a: 0.0002485580341805362, criteria b: 33.44381264780751\n",
      "k = 4900, criteria a: 0.00024348647230883552, criteria b: 33.44397201640933\n",
      "k = 5000, criteria a: 0.0002386177420550717, criteria b: 33.444124998884085\n"
     ]
    },
    {
     "data": {
      "text/plain": [
       "5000"
      ]
     },
     "execution_count": 189,
     "metadata": {},
     "output_type": "execute_result"
    }
   ],
   "source": [
    "fgrad.fit(c,p,q)"
   ]
  },
  {
   "cell_type": "code",
   "execution_count": null,
   "metadata": {},
   "outputs": [],
   "source": []
  }
 ],
 "metadata": {
  "kernelspec": {
   "display_name": "Python 3",
   "language": "python",
   "name": "python3"
  },
  "language_info": {
   "codemirror_mode": {
    "name": "ipython",
    "version": 3
   },
   "file_extension": ".py",
   "mimetype": "text/x-python",
   "name": "python",
   "nbconvert_exporter": "python",
   "pygments_lexer": "ipython3",
   "version": "3.6.4"
  }
 },
 "nbformat": 4,
 "nbformat_minor": 2
}
