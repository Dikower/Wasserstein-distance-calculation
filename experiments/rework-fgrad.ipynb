{
 "cells": [
  {
   "cell_type": "code",
   "execution_count": 1,
   "metadata": {},
   "outputs": [
    {
     "data": {
      "text/plain": [
       "{'divide': 'warn', 'over': 'warn', 'under': 'ignore', 'invalid': 'warn'}"
      ]
     },
     "execution_count": 1,
     "metadata": {},
     "output_type": "execute_result"
    }
   ],
   "source": [
    "import numpy as np\n",
    "np.seterr(all='raise')"
   ]
  },
  {
   "cell_type": "code",
   "execution_count": 13,
   "metadata": {},
   "outputs": [],
   "source": [
    "class FastGradMethod:\n",
    "    def __init__(self, gamma, n, epsilon):\n",
    "        self.alpha = 0\n",
    "        self.a     = 0\n",
    "        \n",
    "        # constants\n",
    "        self.epsilon = epsilon\n",
    "        self.gamma = gamma\n",
    "        self.l     = 1 / gamma\n",
    "        self.n     = nk\n",
    "        \n",
    "        self.u_lambda = np.ones([n])\n",
    "        self.u_mu     = np.ones([n])\n",
    "         \n",
    "        self.y_lambda = np.zeros(n)\n",
    "        self.y_mu     = np.zeros(n)\n",
    "        \n",
    "        self.x_lambda   = np.ones([n])\n",
    "        self.x_mu       = np.ones([n])\n",
    "        \n",
    "        self.alpha_x_sum = 0\n",
    "        \n",
    "        self.x_0 = np.ones([n, n]) / (n**2)\n",
    "        \n",
    "    def x_hat(self, c):\n",
    "        n = self.n\n",
    "        \n",
    "        _c = np.min(self.gamma + c + self.y_lambda.repeat(n).reshape(-1, n) + self.y_mu.repeat(n).reshape(-1, n).T)\n",
    "        \n",
    "        try:\n",
    "            b = self.x_0 * np.exp(\n",
    "                -(self.gamma + c + self.y_lambda.repeat(n).reshape(-1, n) + self.y_mu.repeat(n).reshape(-1, n).T - _c) / self.gamma\n",
    "            )\n",
    "        except:\n",
    "            b = np.ones([n, n]) * 1e-32\n",
    "            \n",
    "        return b / b.sum()\n",
    "    \n",
    "    def x_wave(self, c):\n",
    "        # return self.alpha_x_sum * 1 / self.a\n",
    "        return self.x_hat(c)\n",
    "    \n",
    "    def __new_alpha(self):\n",
    "        return 1 / (2 * self.l) + np.sqrt(1 / (4 * (self.l**2)) + self.alpha**2)\n",
    "    \n",
    "    def __new_a(self, new_alpha):\n",
    "        return self.a + self.__new_alpha()\n",
    "    \n",
    "    def __new_y(self):\n",
    "        new_alpha = self.__new_alpha()\n",
    "        new_a = self.__new_a(new_alpha)\n",
    "        return (new_alpha * self.u_lambda + self.a * self.x_lambda) / new_a,\\\n",
    "               (new_alpha * self.u_mu + self.a * self.x_mu) / new_a\n",
    "    \n",
    "    def __new_u(self, c, p, q):\n",
    "        x_hat = self.x_hat(c)\n",
    "        return self.u_lambda - self.__new_alpha() * (p - x_hat.sum(1)),\\\n",
    "               self.u_mu - self.__new_alpha() * (q - x_hat.sum(0))\n",
    "        \n",
    "    def __new_x(self):\n",
    "        new_alpha = self.__new_alpha()\n",
    "        new_a = self.__new_a(new_alpha)\n",
    "        return (new_alpha * self.u_lambda + self.a * self.x_lambda) / new_a,\\\n",
    "               (new_alpha * self.u_mu + self.a * self.x_mu) / new_a\n",
    "    \n",
    "    def f(self, c, x_wave):\n",
    "        return np.sum(c * x_wave) + self.gamma * np.sum(x_wave * np.log(x_wave / self.x_0))\n",
    "        \n",
    "    def phi(self, c, lambda_x, mu_x):\n",
    "        try:\n",
    "            n = self.x_0 * np.exp(\n",
    "                -(self.gamma + c + lambda_x.repeat(n).reshape(-1, n) + mu_x.repeat(n).reshape(-1, n).T) / self.gamma\n",
    "            )\n",
    "        except:\n",
    "            n = np.ones([self.n, self.n])\n",
    "            \n",
    "        return -np.sum(lambda_x * p) - np.sum(mu_x * q) - self.gamma * np.log(1 / np.exp(1) * np.sum(n))\n",
    "    \n",
    "    def fit(self, c, p, q):\n",
    "        k = 0\n",
    "\n",
    "        while True:\n",
    "            self.y_lambda, self.y_mu = self.__new_y()  \n",
    "            \n",
    "            self.u_lambda, self.u_mu = self.__new_u(c, p, q)            \n",
    "            self.x_lambda, self.x_mu = self.__new_x()\n",
    "            \n",
    "            self.alpha = self.__new_alpha()\n",
    "            self.a     = self.__new_a(self.alpha)\n",
    "            \n",
    "            self.alpha_x_sum += self.alpha * self.x_hat(c)\n",
    "            \n",
    "            x_wave = self.x_wave(c)\n",
    "            r = np.sqrt((self.x_lambda**2).sum() + (self.x_mu**2).sum())\n",
    "            epsilon_wave = self.epsilon / r\n",
    "            \n",
    "            criteria_a = np.sqrt(np.sum((x_wave.sum(1) - p)**2) + np.sum((x_wave.sum(0) - q)**2)) <= epsilon_wave\n",
    "            criteria_b = self.f(c, x_wave) - self.phi(c, p, q) <= self.epsilon\n",
    "            \n",
    "            if k % 100 == 0:\n",
    "                print(f\"k = {k}, criteria a: {np.sqrt(np.sum((x_wave.sum(1) - p)**2) + np.sum((x_wave.sum(0) - q)**2))}, criteria b: {self.f(c, x_wave) - self.phi(c, p, q)}\")\n",
    "            \n",
    "            k+=1\n",
    "              \n",
    "            if criteria_a and criteria_b or k == 2000:\n",
    "                return k\n",
    "            "
   ]
  },
  {
   "cell_type": "code",
   "execution_count": 26,
   "metadata": {},
   "outputs": [],
   "source": [
    "fgrad = FastGradMethod(0.1, 8, 0.01)"
   ]
  },
  {
   "cell_type": "code",
   "execution_count": 27,
   "metadata": {},
   "outputs": [],
   "source": [
    "def sample_batch(n):\n",
    "    C = np.random.uniform(0, 10, size=[n, n])\n",
    "    p = np.random.dirichlet(np.ones(n), size=1).ravel()\n",
    "    q = np.random.dirichlet(np.ones(n), size=1).ravel()\n",
    "    return C, p, q"
   ]
  },
  {
   "cell_type": "code",
   "execution_count": 28,
   "metadata": {},
   "outputs": [
    {
     "name": "stdout",
     "output_type": "stream",
     "text": [
      "k = 0, criteria a: 1.238166031161233, criteria b: 1.1911012725243264\n",
      "k = 100, criteria a: 0.008625550116393172, criteria b: 2.4766502888439783\n",
      "k = 200, criteria a: 0.0033471772521312428, criteria b: 2.472398638510912\n",
      "k = 300, criteria a: 0.007370596381021022, criteria b: 2.498597322957443\n",
      "k = 400, criteria a: 0.0035537234922677343, criteria b: 2.4781662932720847\n",
      "k = 500, criteria a: 0.0021923977160132366, criteria b: 2.486959272392048\n",
      "k = 600, criteria a: 0.0014405156928363888, criteria b: 2.4782432671883\n",
      "k = 700, criteria a: 0.0008353711662790052, criteria b: 2.4836187649128942\n",
      "k = 800, criteria a: 0.0003109707516923592, criteria b: 2.480425975816598\n",
      "k = 900, criteria a: 0.00032528354154451897, criteria b: 2.4808382208774065\n",
      "k = 1000, criteria a: 0.0005037664654451969, criteria b: 2.4827214524304377\n",
      "k = 1100, criteria a: 0.0004015897237978254, criteria b: 2.4803703405334057\n",
      "k = 1200, criteria a: 0.0002198742129105957, criteria b: 2.481738116895079\n",
      "k = 1300, criteria a: 5.498746468955258e-05, criteria b: 2.4815104975437476\n",
      "k = 1400, criteria a: 0.00015323532172306395, criteria b: 2.4811208287695594\n",
      "k = 1500, criteria a: 0.00020141150893653913, criteria b: 2.481739148535789\n",
      "k = 1600, criteria a: 0.00014746758377918353, criteria b: 2.4810568505230246\n",
      "k = 1700, criteria a: 6.349966584379711e-05, criteria b: 2.4815836828142563\n",
      "k = 1800, criteria a: 3.125173020657488e-05, criteria b: 2.4814575876702682\n",
      "k = 1900, criteria a: 8.614489615407881e-05, criteria b: 2.4811671611550947\n"
     ]
    },
    {
     "data": {
      "text/plain": [
       "2000"
      ]
     },
     "execution_count": 28,
     "metadata": {},
     "output_type": "execute_result"
    }
   ],
   "source": [
    "c, p, q = sample_batch(8)\n",
    "fgrad.fit(c, p, q)"
   ]
  },
  {
   "cell_type": "code",
   "execution_count": 6,
   "metadata": {},
   "outputs": [],
   "source": [
    "import matplotlib.pyplot as plt\n",
    "%matplotlib inline"
   ]
  },
  {
   "cell_type": "code",
   "execution_count": null,
   "metadata": {},
   "outputs": [],
   "source": [
    "4c, p, q = sample_batch(5)\n",
    "gammas = np.linspace(0.25, 2, 50)\n",
    "plt.plot(gammas, [FastGradMethod(gamma, 5, 0.01).fit(c, p, q) for gamma in gammas])"
   ]
  }
 ],
 "metadata": {
  "kernelspec": {
   "display_name": "Python 3",
   "language": "python",
   "name": "python3"
  },
  "language_info": {
   "codemirror_mode": {
    "name": "ipython",
    "version": 3
   },
   "file_extension": ".py",
   "mimetype": "text/x-python",
   "name": "python",
   "nbconvert_exporter": "python",
   "pygments_lexer": "ipython3",
   "version": "3.6.4"
  }
 },
 "nbformat": 4,
 "nbformat_minor": 2
}
