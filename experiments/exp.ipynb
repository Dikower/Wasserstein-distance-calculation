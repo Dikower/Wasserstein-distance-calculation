{
 "cells": [
  {
   "cell_type": "code",
   "execution_count": null,
   "metadata": {},
   "outputs": [],
   "source": [
    "import numpy as np\n",
    "from numpy import exp, log, sqrt\n",
    "from numpy.linalg import norm\n",
    "from numpy.random import random\n",
    "import matplotlib.pyplot as plt"
   ]
  },
  {
   "cell_type": "code",
   "execution_count": null,
   "metadata": {},
   "outputs": [],
   "source": [
    "N = 4\n",
    "\n",
    "img1 = np.array([[2,   1,  2,  3],\n",
    "                 [4,   5,  6,  7],\n",
    "                 [8,   9, 10, 11],\n",
    "                 [12, 13, 14, 15]])\n",
    "\n",
    "img2 = np.array([[3,   1,  2,  3],\n",
    "                 [4,   5,  6,  7],\n",
    "                 [8,   9, 10, 11],\n",
    "                 [12, 13, 14, 15]])"
   ]
  },
  {
   "cell_type": "code",
   "execution_count": null,
   "metadata": {},
   "outputs": [],
   "source": [
    "C = np.zeros((N ** 2, N ** 2))\n",
    "\n",
    "for i in range(N ** 2):\n",
    "    for j in range(N ** 2):\n",
    "        C[i, j] = norm(np.array([i // N, i % N]) - np.array([j // N, j % N]), 2)\n",
    "\n",
    "p = img1.reshape((N ** 2, ))\n",
    "p = p / sum(p)\n",
    "q = img2.reshape((N ** 2, ))\n",
    "q = q / sum(q)"
   ]
  },
  {
   "cell_type": "code",
   "execution_count": null,
   "metadata": {},
   "outputs": [],
   "source": [
    "def sinkhorn(n, C, p, q, gamma, eps1, eps):\n",
    "    l = np.ones(n)\n",
    "    m = np.ones(n)\n",
    "\n",
    "    X_new = 1/n**2 * np.ones((n, n))\n",
    "    t = 0\n",
    "    tt = 0\n",
    "    while True:\n",
    "        tt += 1\n",
    "        X = X_new\n",
    "        while not (sum(abs(norm(X_new, 1, axis=1) - p)) + sum(abs(norm(X_new, 1, axis=0) - q)) <= eps):\n",
    "            \n",
    "            for i in range(n):\n",
    "                l[i] = gamma * log(1/p[i] * sum([exp(-(gamma + C[i, j] + m[j])/gamma) * X[i, j] for j in range(n)]))\n",
    "            for j in range(n):\n",
    "                m[j] = gamma * log(1/q[j] * sum([exp(-(gamma + C[i, j] + l[i])/gamma) * X[i, j] for i in range(n)]))\n",
    "            for i in range(n):\n",
    "                for j in range(n):\n",
    "                    X[i,j] = X[i, j] * exp(- (gamma + C[i,j] + l[i] + m[j])/gamma)\n",
    "            #X_new = X * np.array(exp( -(gamma + C + np.matrix(l).T + m)/gamma ))\n",
    "            t += 1\n",
    "\n",
    "        if norm(X_new - X, 2) <= eps1:\n",
    "            break\n",
    "    return X_new, t"
   ]
  },
  {
   "cell_type": "code",
   "execution_count": null,
   "metadata": {},
   "outputs": [],
   "source": [
    "def test_gamma(method, gamma):\n",
    "    gamma_exp = []\n",
    "    T_exp = []\n",
    "    opt_point = 0\n",
    "\n",
    "    while (len(T_exp) <= 2) or (T_exp[-1] - T_exp[-2]) / (gamma_exp[-2] - gamma_exp[-1]) <= 1e+3:\n",
    "        gamma /= 1.5\n",
    "        X, T = method(gamma)\n",
    "        gamma_exp.append(gamma)\n",
    "        T_exp.append(T)\n",
    "        print(T)\n",
    "        try:\n",
    "            if (opt_point == 0) and (T_exp[-1] - T_exp[-2]) / (gamma_exp[-2] - gamma_exp[-1]) >= 1:\n",
    "                opt_point = gamma\n",
    "        except:\n",
    "            pass\n",
    "    \n",
    "    return gamma_exp, T_exp, opt_point"
   ]
  },
  {
   "cell_type": "code",
   "execution_count": null,
   "metadata": {},
   "outputs": [],
   "source": [
    "eps1 = 1e-7\n",
    "eps = 1e-3\n",
    "gamma_exp, T_exp, opt_point = test_gamma(lambda gamma: sinkhorn(N ** 2, C, p, q, gamma, eps1, eps), gamma=100)"
   ]
  },
  {
   "cell_type": "code",
   "execution_count": null,
   "metadata": {},
   "outputs": [],
   "source": [
    "plt.plot(gamma_exp, T_exp)\n",
    "plt.plot([opt_point, opt_point], [0, max(T_exp)], )"
   ]
  },
  {
   "cell_type": "code",
   "execution_count": null,
   "metadata": {},
   "outputs": [],
   "source": [
    "opt_point"
   ]
  },
  {
   "cell_type": "code",
   "execution_count": null,
   "metadata": {},
   "outputs": [],
   "source": []
  }
 ],
 "metadata": {
  "kernelspec": {
   "display_name": "Python 3",
   "language": "python",
   "name": "python3"
  },
  "language_info": {
   "codemirror_mode": {
    "name": "ipython",
    "version": 3
   },
   "file_extension": ".py",
   "mimetype": "text/x-python",
   "name": "python",
   "nbconvert_exporter": "python",
   "pygments_lexer": "ipython3",
   "version": "3.6.4"
  }
 },
 "nbformat": 4,
 "nbformat_minor": 2
}
