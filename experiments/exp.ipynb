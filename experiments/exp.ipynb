{
 "cells": [
  {
   "cell_type": "code",
   "execution_count": 1,
   "metadata": {},
   "outputs": [],
   "source": [
    "import numpy as np\n",
    "from numpy import exp, log, sqrt\n",
    "from numpy.random import random\n",
    "from numpy.linalg import norm\n",
    "import matplotlib.pyplot as plt"
   ]
  },
  {
   "cell_type": "code",
   "execution_count": 2,
   "metadata": {},
   "outputs": [],
   "source": [
    "class FastGradientDescent:\n",
    "    def __init__(self, gamma, n=5, epsilon=0.001):\n",
    "        self.alpha = 0\n",
    "        self.a     = 0\n",
    "        \n",
    "        # constants\n",
    "        self.epsilon = epsilon\n",
    "        self.gamma = gamma\n",
    "        self.l     = 1 / gamma\n",
    "        self.n     = n\n",
    "        \n",
    "        self.u_lambda = np.ones(n) / n**2\n",
    "        self.u_mu     = np.ones(n) / n**2\n",
    "         \n",
    "        self.y_lambda = np.zeros(n)\n",
    "        self.y_mu     = np.zeros(n)\n",
    "        \n",
    "        self.x_lambda   = np.zeros([n])\n",
    "        self.x_mu       = np.zeros([n])\n",
    "        \n",
    "        self.x_0 = np.ones([n, n]) / (n**2)\n",
    "        \n",
    "    def __get_x(self, c):\n",
    "        a = self.x_0 * np.exp(-(self.gamma + c + self.x_lambda.repeat(self.n).reshape(-1, self.n) +\\\n",
    "                                self.x_mu.repeat(self.n).reshape(-1, self.n).T))\n",
    "        \n",
    "        return a / a.sum()\n",
    "    \n",
    "    def __new_alpha(self):\n",
    "        return 1 / (2 * self.l) + np.sqrt(1 / (4 * (self.l**2)) + self.alpha**2)\n",
    "    \n",
    "    def __new_a(self):\n",
    "        return self.a + self.__new_alpha()\n",
    "    \n",
    "    def __new_y(self):\n",
    "        return (self.__new_alpha() * self.u_lambda + self.a * self.x_lambda) / self.__new_a(),\\\n",
    "               (self.__new_alpha() * self.u_mu + self.a * self.x_mu) / self.__new_a()\n",
    "        \n",
    "        \n",
    "    def __new_u(self, c, p, q):\n",
    "        x_hat = self.__get_x(c)\n",
    "        \n",
    "        return self.u_lambda - self.alpha * (p - x_hat.sum(1)),\\\n",
    "               self.u_mu - self.alpha * (q - x_hat.sum(0))\n",
    "    \n",
    "    def __new_x(self):\n",
    "        return (self.alpha * self.u_lambda + self.a * self.x_lambda) / self.__new_a(),\\\n",
    "                (self.alpha * self.u_mu + self.a * self.x_mu) / self.__new_a()\n",
    "    \n",
    "    def fit(self, c, p, q):\n",
    "        k = 0\n",
    "        while True:\n",
    "            k+=1\n",
    "            self.y_lambda, self.y_mu = self.__new_y()\n",
    "            self.u_lambda, self.u_mu = self.__new_u(c, p, q)\n",
    "            self.x_lambda, self.x_mu = self.__new_x()\n",
    "            \n",
    "            self.alpha = self.__new_alpha()\n",
    "            self.a     = self.__new_a()\n",
    "            \n",
    "            x_hat = self.__get_x(c)\n",
    "            if (((p - x_hat.sum(1))**2).sum() + ((q - x_hat.sum(0))**2).sum())**(1/2) < self.epsilon: \n",
    "                return self.__get_x(c), k"
   ]
  },
  {
   "cell_type": "code",
   "execution_count": 7,
   "metadata": {},
   "outputs": [],
   "source": [
    "def fastgrad(c, p, q, gamma, n, eps):\n",
    "    fgrad = FastGradientDescent(gamma, n=n, epsilon=eps)\n",
    "    x, n = fgrad.fit(c, p, q)\n",
    "    return x, n, 0"
   ]
  },
  {
   "cell_type": "code",
   "execution_count": 8,
   "metadata": {},
   "outputs": [],
   "source": [
    "N = 4\n",
    "\n",
    "img1 = np.array([[2,   1,  2,  3],\n",
    "                 [4,   5,  6,  7],\n",
    "                 [8,   9, 17, 11],\n",
    "                 [12, 13, 7, 15]])\n",
    "\n",
    "img2 = np.array([[12,   1,  4,  3],\n",
    "                 [4,   2,  6,  10],\n",
    "                 [8,   9, 1, 11],\n",
    "                 [10, 14, 14, 15]])"
   ]
  },
  {
   "cell_type": "code",
   "execution_count": 9,
   "metadata": {},
   "outputs": [],
   "source": [
    "C = np.zeros((N ** 2, N ** 2))\n",
    "\n",
    "for i in range(N ** 2):\n",
    "    for j in range(N ** 2):\n",
    "        C[i, j] = norm(np.array([i // N, i % N]) - np.array([j // N, j % N]), 2)\n",
    "\n",
    "p = img1.reshape((N ** 2, ))\n",
    "p = p / sum(p)\n",
    "q = img2.reshape((N ** 2, ))\n",
    "q = q / sum(q)"
   ]
  },
  {
   "cell_type": "code",
   "execution_count": 10,
   "metadata": {},
   "outputs": [],
   "source": [
    "# def sample_batch(n):\n",
    "#     C = np.random.uniform(0, 10, size=[n, n])\n",
    "#     p = np.random.dirichlet(np.ones(n), size=1).ravel()\n",
    "#     q = np.random.dirichlet(np.ones(n), size=1).ravel()\n",
    "#     return C, p, q"
   ]
  },
  {
   "cell_type": "code",
   "execution_count": 11,
   "metadata": {},
   "outputs": [],
   "source": [
    "n = 16\n",
    "# C, p, q = sample_batch(n)"
   ]
  },
  {
   "cell_type": "code",
   "execution_count": 12,
   "metadata": {},
   "outputs": [],
   "source": [
    "def f(l, m, X, Xk, C, n, gamma):\n",
    "    return np.sum(C * X) + gamma * np.sum(X * np.log(X / Xk))\n",
    "\n",
    "def phi(l, m, X, Xk, n, gamma):\n",
    "    return -np.sum(l*p) - np.sum(m*q) - gamma * np.sum(X * np.log(X / Xk))"
   ]
  },
  {
   "cell_type": "code",
   "execution_count": 13,
   "metadata": {},
   "outputs": [],
   "source": [
    "def sinkhorn(n, C, p, q, gamma, eps1, eps):\n",
    "    l = np.ones(n)\n",
    "    m = np.ones(n)\n",
    "\n",
    "    X_new = 1/n**2 * np.ones((n, n))\n",
    "    t = 0\n",
    "    tt = 0\n",
    "    while True:\n",
    "        tt += 1\n",
    "        X = np.array(X_new)\n",
    "        while not (sum(abs(norm(X_new, 1, axis=1) - p)) + sum(abs(norm(X_new, 1, axis=0) - q)) <= eps):\n",
    "            \n",
    "            for i in range(n):\n",
    "                l[i] = gamma * log(1/p[i] * np.sum([exp(-(gamma + C[i, j] + m[j])/gamma) * X[i, j] for j in range(n)]))\n",
    "            for j in range(n):\n",
    "                m[j] = gamma * log(1/q[j] * np.sum([exp(-(gamma + C[i, j] + l[i])/gamma) * X[i, j] for i in range(n)]))\n",
    "            for i in range(n):\n",
    "                for j in range(n):\n",
    "                    X_new[i,j] = X[i, j] * exp(- (gamma + C[i,j] + l[i] + m[j])/gamma)\n",
    "            #X_new = X * np.array(exp( -(gamma + C + np.matrix(l).T + m)/gamma ))\n",
    "            t += 1\n",
    "\n",
    "        if norm(X_new - X, 2) <= eps1:\n",
    "            break\n",
    "    return X_new, t, tt"
   ]
  },
  {
   "cell_type": "code",
   "execution_count": 14,
   "metadata": {},
   "outputs": [],
   "source": [
    "def test_gamma(method, gamma):\n",
    "    gamma_exp = []\n",
    "    T_exp = []\n",
    "    opt_point = 0\n",
    "\n",
    "    for _ in range(12):\n",
    "        gamma /= 1.2\n",
    "        X, T, _ = method(gamma)\n",
    "        gamma_exp.append(gamma)\n",
    "        T_exp.append(T)\n",
    "        print(T)\n",
    "        try:\n",
    "            if (opt_point == 0) and (T_exp[-1] - T_exp[-2]) / (gamma_exp[-2] - gamma_exp[-1]) >= 1:\n",
    "                opt_point = gamma\n",
    "        except:\n",
    "            pass\n",
    "    \n",
    "    return gamma_exp, T_exp, opt_point"
   ]
  },
  {
   "cell_type": "code",
   "execution_count": 15,
   "metadata": {},
   "outputs": [
    {
     "name": "stdout",
     "output_type": "stream",
     "text": [
      "14\n",
      "19\n",
      "26\n",
      "36\n",
      "50\n",
      "68\n",
      "91\n",
      "125\n",
      "199\n",
      "352\n",
      "550\n",
      "701\n"
     ]
    }
   ],
   "source": [
    "eps1 = 1e-7\n",
    "eps = 0.000001\n",
    "gamma_exp, T_exp, opt_point = test_gamma(lambda gamma: sinkhorn(N**2, C, p, q, gamma, eps1, eps), gamma=1)"
   ]
  },
  {
   "cell_type": "code",
   "execution_count": 16,
   "metadata": {},
   "outputs": [
    {
     "name": "stdout",
     "output_type": "stream",
     "text": [
      "17520\n",
      "18427\n",
      "19762\n",
      "22035\n",
      "23323\n",
      "25770\n",
      "26541\n",
      "27997\n",
      "30674\n",
      "31812\n",
      "34851\n",
      "38181\n"
     ]
    }
   ],
   "source": [
    "gamma_exp_,T_exp_, opt_point_ = test_gamma(lambda gamma: fastgrad(C, p, q, gamma, N**2, eps), gamma=1)"
   ]
  },
  {
   "cell_type": "code",
   "execution_count": 17,
   "metadata": {},
   "outputs": [],
   "source": [
    "p_ = 0\n",
    "\n",
    "for i in range(1, len(gamma_exp)):\n",
    "    if T_exp[i] > T_exp_[i] and T_exp[i-1] < T_exp_[i-1]:\n",
    "        p_ = 3/8 * gamma_exp[i] + 5/8 *  gamma_exp[i-1]"
   ]
  },
  {
   "cell_type": "code",
   "execution_count": 169,
   "metadata": {},
   "outputs": [
    {
     "data": {
      "text/plain": [
       "0"
      ]
     },
     "execution_count": 169,
     "metadata": {},
     "output_type": "execute_result"
    }
   ],
   "source": [
    "p_"
   ]
  },
  {
   "cell_type": "code",
   "execution_count": 18,
   "metadata": {},
   "outputs": [
    {
     "data": {
      "image/png": "[encoded data removed]",
      "text/plain": [
       "<matplotlib.figure.Figure at 0x1060b61d0>"
      ]
     },
     "metadata": {},
     "output_type": "display_data"
    }
   ],
   "source": [
    "plt.title(\"$\\epsilon = 10^{-2}$\")\n",
    "plt.xlabel(\"$\\gamma$\", fontsize=12)\n",
    "plt.ylabel(\"$N(\\gamma)$\", fontsize=12)\n",
    "plt.plot(gamma_exp, T_exp, label=\"Sinkhorn method\")\n",
    "plt.plot(gamma_exp, T_exp_, label=\"Fast gradient method\")\n",
    "\n",
    "plt.plot([p_, p_], [0, max(T_exp)], ':')\n",
    "plt.plot([eps / (4 * np.log(N ** 2)), eps / (4 * np.log(N ** 2))], [0, max(T_exp)], 'r:', label=\"$\\gamma^* = \\epsilon\\;/\\;(4\\;ln(n))$\")\n",
    "plt.legend()\n",
    "\n",
    "plt.savefig('eps1e-2.eps', format='eps', dpi=1000)\n",
    "plt.savefig(\"eps1e-2.png\", dpi=1000)"
   ]
  },
  {
   "cell_type": "code",
   "execution_count": 73,
   "metadata": {},
   "outputs": [
    {
     "ename": "KeyboardInterrupt",
     "evalue": "",
     "output_type": "error",
     "traceback": [
      "\u001b[0;31m---------------------------------------------------------------------------\u001b[0m",
      "\u001b[0;31mKeyboardInterrupt\u001b[0m                         Traceback (most recent call last)",
      "\u001b[0;32m<ipython-input-73-522fe059984c>\u001b[0m in \u001b[0;36m<module>\u001b[0;34m()\u001b[0m\n\u001b[1;32m      1\u001b[0m \u001b[0meps1\u001b[0m \u001b[0;34m=\u001b[0m \u001b[0;36m1e-7\u001b[0m\u001b[0;34m\u001b[0m\u001b[0m\n\u001b[1;32m      2\u001b[0m \u001b[0meps\u001b[0m \u001b[0;34m=\u001b[0m \u001b[0;36m1e-3\u001b[0m\u001b[0;34m\u001b[0m\u001b[0m\n\u001b[0;32m----> 3\u001b[0;31m \u001b[0mgamma_exp\u001b[0m\u001b[0;34m,\u001b[0m \u001b[0mT_exp\u001b[0m\u001b[0;34m,\u001b[0m \u001b[0mopt_point\u001b[0m \u001b[0;34m=\u001b[0m \u001b[0mtest_gamma\u001b[0m\u001b[0;34m(\u001b[0m\u001b[0;32mlambda\u001b[0m \u001b[0mgamma\u001b[0m\u001b[0;34m:\u001b[0m \u001b[0msinkhorn\u001b[0m\u001b[0;34m(\u001b[0m\u001b[0mN\u001b[0m \u001b[0;34m**\u001b[0m \u001b[0;36m2\u001b[0m\u001b[0;34m,\u001b[0m \u001b[0mC\u001b[0m\u001b[0;34m,\u001b[0m \u001b[0mp\u001b[0m\u001b[0;34m,\u001b[0m \u001b[0mq\u001b[0m\u001b[0;34m,\u001b[0m \u001b[0mgamma\u001b[0m\u001b[0;34m,\u001b[0m \u001b[0meps1\u001b[0m\u001b[0;34m,\u001b[0m \u001b[0meps\u001b[0m\u001b[0;34m)\u001b[0m\u001b[0;34m,\u001b[0m \u001b[0mgamma\u001b[0m\u001b[0;34m=\u001b[0m\u001b[0;36m1\u001b[0m\u001b[0;34m)\u001b[0m\u001b[0;34m\u001b[0m\u001b[0m\n\u001b[0m\u001b[1;32m      4\u001b[0m \u001b[0mgamma_exp_\u001b[0m\u001b[0;34m,\u001b[0m \u001b[0mT_exp_\u001b[0m\u001b[0;34m,\u001b[0m \u001b[0mopt_point_\u001b[0m \u001b[0;34m=\u001b[0m \u001b[0mtest_gamma\u001b[0m\u001b[0;34m(\u001b[0m\u001b[0;32mlambda\u001b[0m \u001b[0mgamma\u001b[0m\u001b[0;34m:\u001b[0m \u001b[0mfastgrad\u001b[0m\u001b[0;34m(\u001b[0m\u001b[0mC\u001b[0m\u001b[0;34m,\u001b[0m \u001b[0mp\u001b[0m\u001b[0;34m,\u001b[0m \u001b[0mq\u001b[0m\u001b[0;34m,\u001b[0m \u001b[0mgamma\u001b[0m\u001b[0;34m,\u001b[0m \u001b[0mN\u001b[0m \u001b[0;34m**\u001b[0m \u001b[0;36m2\u001b[0m\u001b[0;34m,\u001b[0m \u001b[0meps\u001b[0m\u001b[0;34m)\u001b[0m\u001b[0;34m,\u001b[0m \u001b[0mgamma\u001b[0m\u001b[0;34m=\u001b[0m\u001b[0;36m1\u001b[0m\u001b[0;34m)\u001b[0m\u001b[0;34m\u001b[0m\u001b[0m\n",
      "\u001b[0;32m<ipython-input-67-aa9a134ed997>\u001b[0m in \u001b[0;36mtest_gamma\u001b[0;34m(method, gamma)\u001b[0m\n\u001b[1;32m      6\u001b[0m     \u001b[0;32mfor\u001b[0m \u001b[0m_\u001b[0m \u001b[0;32min\u001b[0m \u001b[0mrange\u001b[0m\u001b[0;34m(\u001b[0m\u001b[0;36m12\u001b[0m\u001b[0;34m)\u001b[0m\u001b[0;34m:\u001b[0m\u001b[0;34m\u001b[0m\u001b[0m\n\u001b[1;32m      7\u001b[0m         \u001b[0mgamma\u001b[0m \u001b[0;34m/=\u001b[0m \u001b[0;36m1.2\u001b[0m\u001b[0;34m\u001b[0m\u001b[0m\n\u001b[0;32m----> 8\u001b[0;31m         \u001b[0mX\u001b[0m\u001b[0;34m,\u001b[0m \u001b[0mT\u001b[0m\u001b[0;34m,\u001b[0m \u001b[0m_\u001b[0m \u001b[0;34m=\u001b[0m \u001b[0mmethod\u001b[0m\u001b[0;34m(\u001b[0m\u001b[0mgamma\u001b[0m\u001b[0;34m)\u001b[0m\u001b[0;34m\u001b[0m\u001b[0m\n\u001b[0m\u001b[1;32m      9\u001b[0m         \u001b[0mgamma_exp\u001b[0m\u001b[0;34m.\u001b[0m\u001b[0mappend\u001b[0m\u001b[0;34m(\u001b[0m\u001b[0mgamma\u001b[0m\u001b[0;34m)\u001b[0m\u001b[0;34m\u001b[0m\u001b[0m\n\u001b[1;32m     10\u001b[0m         \u001b[0mT_exp\u001b[0m\u001b[0;34m.\u001b[0m\u001b[0mappend\u001b[0m\u001b[0;34m(\u001b[0m\u001b[0mT\u001b[0m\u001b[0;34m)\u001b[0m\u001b[0;34m\u001b[0m\u001b[0m\n",
      "\u001b[0;32m<ipython-input-73-522fe059984c>\u001b[0m in \u001b[0;36m<lambda>\u001b[0;34m(gamma)\u001b[0m\n\u001b[1;32m      1\u001b[0m \u001b[0meps1\u001b[0m \u001b[0;34m=\u001b[0m \u001b[0;36m1e-7\u001b[0m\u001b[0;34m\u001b[0m\u001b[0m\n\u001b[1;32m      2\u001b[0m \u001b[0meps\u001b[0m \u001b[0;34m=\u001b[0m \u001b[0;36m1e-3\u001b[0m\u001b[0;34m\u001b[0m\u001b[0m\n\u001b[0;32m----> 3\u001b[0;31m \u001b[0mgamma_exp\u001b[0m\u001b[0;34m,\u001b[0m \u001b[0mT_exp\u001b[0m\u001b[0;34m,\u001b[0m \u001b[0mopt_point\u001b[0m \u001b[0;34m=\u001b[0m \u001b[0mtest_gamma\u001b[0m\u001b[0;34m(\u001b[0m\u001b[0;32mlambda\u001b[0m \u001b[0mgamma\u001b[0m\u001b[0;34m:\u001b[0m \u001b[0msinkhorn\u001b[0m\u001b[0;34m(\u001b[0m\u001b[0mN\u001b[0m \u001b[0;34m**\u001b[0m \u001b[0;36m2\u001b[0m\u001b[0;34m,\u001b[0m \u001b[0mC\u001b[0m\u001b[0;34m,\u001b[0m \u001b[0mp\u001b[0m\u001b[0;34m,\u001b[0m \u001b[0mq\u001b[0m\u001b[0;34m,\u001b[0m \u001b[0mgamma\u001b[0m\u001b[0;34m,\u001b[0m \u001b[0meps1\u001b[0m\u001b[0;34m,\u001b[0m \u001b[0meps\u001b[0m\u001b[0;34m)\u001b[0m\u001b[0;34m,\u001b[0m \u001b[0mgamma\u001b[0m\u001b[0;34m=\u001b[0m\u001b[0;36m1\u001b[0m\u001b[0;34m)\u001b[0m\u001b[0;34m\u001b[0m\u001b[0m\n\u001b[0m\u001b[1;32m      4\u001b[0m \u001b[0mgamma_exp_\u001b[0m\u001b[0;34m,\u001b[0m \u001b[0mT_exp_\u001b[0m\u001b[0;34m,\u001b[0m \u001b[0mopt_point_\u001b[0m \u001b[0;34m=\u001b[0m \u001b[0mtest_gamma\u001b[0m\u001b[0;34m(\u001b[0m\u001b[0;32mlambda\u001b[0m \u001b[0mgamma\u001b[0m\u001b[0;34m:\u001b[0m \u001b[0mfastgrad\u001b[0m\u001b[0;34m(\u001b[0m\u001b[0mC\u001b[0m\u001b[0;34m,\u001b[0m \u001b[0mp\u001b[0m\u001b[0;34m,\u001b[0m \u001b[0mq\u001b[0m\u001b[0;34m,\u001b[0m \u001b[0mgamma\u001b[0m\u001b[0;34m,\u001b[0m \u001b[0mN\u001b[0m \u001b[0;34m**\u001b[0m \u001b[0;36m2\u001b[0m\u001b[0;34m,\u001b[0m \u001b[0meps\u001b[0m\u001b[0;34m)\u001b[0m\u001b[0;34m,\u001b[0m \u001b[0mgamma\u001b[0m\u001b[0;34m=\u001b[0m\u001b[0;36m1\u001b[0m\u001b[0;34m)\u001b[0m\u001b[0;34m\u001b[0m\u001b[0m\n",
      "\u001b[0;32m<ipython-input-65-bfd0183c85a2>\u001b[0m in \u001b[0;36msinkhorn\u001b[0;34m(n, C, p, q, gamma, eps1, eps)\u001b[0m\n\u001b[1;32m     12\u001b[0m \u001b[0;34m\u001b[0m\u001b[0m\n\u001b[1;32m     13\u001b[0m             \u001b[0;32mfor\u001b[0m \u001b[0mi\u001b[0m \u001b[0;32min\u001b[0m \u001b[0mrange\u001b[0m\u001b[0;34m(\u001b[0m\u001b[0mn\u001b[0m\u001b[0;34m)\u001b[0m\u001b[0;34m:\u001b[0m\u001b[0;34m\u001b[0m\u001b[0m\n\u001b[0;32m---> 14\u001b[0;31m                 \u001b[0ml\u001b[0m\u001b[0;34m[\u001b[0m\u001b[0mi\u001b[0m\u001b[0;34m]\u001b[0m \u001b[0;34m=\u001b[0m \u001b[0mgamma\u001b[0m \u001b[0;34m*\u001b[0m \u001b[0mlog\u001b[0m\u001b[0;34m(\u001b[0m\u001b[0;36m1\u001b[0m\u001b[0;34m/\u001b[0m\u001b[0mp\u001b[0m\u001b[0;34m[\u001b[0m\u001b[0mi\u001b[0m\u001b[0;34m]\u001b[0m \u001b[0;34m*\u001b[0m \u001b[0mnp\u001b[0m\u001b[0;34m.\u001b[0m\u001b[0msum\u001b[0m\u001b[0;34m(\u001b[0m\u001b[0;34m[\u001b[0m\u001b[0mexp\u001b[0m\u001b[0;34m(\u001b[0m\u001b[0;34m-\u001b[0m\u001b[0;34m(\u001b[0m\u001b[0mgamma\u001b[0m \u001b[0;34m+\u001b[0m \u001b[0mC\u001b[0m\u001b[0;34m[\u001b[0m\u001b[0mi\u001b[0m\u001b[0;34m,\u001b[0m \u001b[0mj\u001b[0m\u001b[0;34m]\u001b[0m \u001b[0;34m+\u001b[0m \u001b[0mm\u001b[0m\u001b[0;34m[\u001b[0m\u001b[0mj\u001b[0m\u001b[0;34m]\u001b[0m\u001b[0;34m)\u001b[0m\u001b[0;34m/\u001b[0m\u001b[0mgamma\u001b[0m\u001b[0;34m)\u001b[0m \u001b[0;34m*\u001b[0m \u001b[0mX\u001b[0m\u001b[0;34m[\u001b[0m\u001b[0mi\u001b[0m\u001b[0;34m,\u001b[0m \u001b[0mj\u001b[0m\u001b[0;34m]\u001b[0m \u001b[0;32mfor\u001b[0m \u001b[0mj\u001b[0m \u001b[0;32min\u001b[0m \u001b[0mrange\u001b[0m\u001b[0;34m(\u001b[0m\u001b[0mn\u001b[0m\u001b[0;34m)\u001b[0m\u001b[0;34m]\u001b[0m\u001b[0;34m)\u001b[0m\u001b[0;34m)\u001b[0m\u001b[0;34m\u001b[0m\u001b[0m\n\u001b[0m\u001b[1;32m     15\u001b[0m             \u001b[0;32mfor\u001b[0m \u001b[0mj\u001b[0m \u001b[0;32min\u001b[0m \u001b[0mrange\u001b[0m\u001b[0;34m(\u001b[0m\u001b[0mn\u001b[0m\u001b[0;34m)\u001b[0m\u001b[0;34m:\u001b[0m\u001b[0;34m\u001b[0m\u001b[0m\n\u001b[1;32m     16\u001b[0m                 \u001b[0mm\u001b[0m\u001b[0;34m[\u001b[0m\u001b[0mj\u001b[0m\u001b[0;34m]\u001b[0m \u001b[0;34m=\u001b[0m \u001b[0mgamma\u001b[0m \u001b[0;34m*\u001b[0m \u001b[0mlog\u001b[0m\u001b[0;34m(\u001b[0m\u001b[0;36m1\u001b[0m\u001b[0;34m/\u001b[0m\u001b[0mq\u001b[0m\u001b[0;34m[\u001b[0m\u001b[0mj\u001b[0m\u001b[0;34m]\u001b[0m \u001b[0;34m*\u001b[0m \u001b[0mnp\u001b[0m\u001b[0;34m.\u001b[0m\u001b[0msum\u001b[0m\u001b[0;34m(\u001b[0m\u001b[0;34m[\u001b[0m\u001b[0mexp\u001b[0m\u001b[0;34m(\u001b[0m\u001b[0;34m-\u001b[0m\u001b[0;34m(\u001b[0m\u001b[0mgamma\u001b[0m \u001b[0;34m+\u001b[0m \u001b[0mC\u001b[0m\u001b[0;34m[\u001b[0m\u001b[0mi\u001b[0m\u001b[0;34m,\u001b[0m \u001b[0mj\u001b[0m\u001b[0;34m]\u001b[0m \u001b[0;34m+\u001b[0m \u001b[0ml\u001b[0m\u001b[0;34m[\u001b[0m\u001b[0mi\u001b[0m\u001b[0;34m]\u001b[0m\u001b[0;34m)\u001b[0m\u001b[0;34m/\u001b[0m\u001b[0mgamma\u001b[0m\u001b[0;34m)\u001b[0m \u001b[0;34m*\u001b[0m \u001b[0mX\u001b[0m\u001b[0;34m[\u001b[0m\u001b[0mi\u001b[0m\u001b[0;34m,\u001b[0m \u001b[0mj\u001b[0m\u001b[0;34m]\u001b[0m \u001b[0;32mfor\u001b[0m \u001b[0mi\u001b[0m \u001b[0;32min\u001b[0m \u001b[0mrange\u001b[0m\u001b[0;34m(\u001b[0m\u001b[0mn\u001b[0m\u001b[0;34m)\u001b[0m\u001b[0;34m]\u001b[0m\u001b[0;34m)\u001b[0m\u001b[0;34m)\u001b[0m\u001b[0;34m\u001b[0m\u001b[0m\n",
      "\u001b[0;32m<ipython-input-65-bfd0183c85a2>\u001b[0m in \u001b[0;36m<listcomp>\u001b[0;34m(.0)\u001b[0m\n\u001b[1;32m     12\u001b[0m \u001b[0;34m\u001b[0m\u001b[0m\n\u001b[1;32m     13\u001b[0m             \u001b[0;32mfor\u001b[0m \u001b[0mi\u001b[0m \u001b[0;32min\u001b[0m \u001b[0mrange\u001b[0m\u001b[0;34m(\u001b[0m\u001b[0mn\u001b[0m\u001b[0;34m)\u001b[0m\u001b[0;34m:\u001b[0m\u001b[0;34m\u001b[0m\u001b[0m\n\u001b[0;32m---> 14\u001b[0;31m                 \u001b[0ml\u001b[0m\u001b[0;34m[\u001b[0m\u001b[0mi\u001b[0m\u001b[0;34m]\u001b[0m \u001b[0;34m=\u001b[0m \u001b[0mgamma\u001b[0m \u001b[0;34m*\u001b[0m \u001b[0mlog\u001b[0m\u001b[0;34m(\u001b[0m\u001b[0;36m1\u001b[0m\u001b[0;34m/\u001b[0m\u001b[0mp\u001b[0m\u001b[0;34m[\u001b[0m\u001b[0mi\u001b[0m\u001b[0;34m]\u001b[0m \u001b[0;34m*\u001b[0m \u001b[0mnp\u001b[0m\u001b[0;34m.\u001b[0m\u001b[0msum\u001b[0m\u001b[0;34m(\u001b[0m\u001b[0;34m[\u001b[0m\u001b[0mexp\u001b[0m\u001b[0;34m(\u001b[0m\u001b[0;34m-\u001b[0m\u001b[0;34m(\u001b[0m\u001b[0mgamma\u001b[0m \u001b[0;34m+\u001b[0m \u001b[0mC\u001b[0m\u001b[0;34m[\u001b[0m\u001b[0mi\u001b[0m\u001b[0;34m,\u001b[0m \u001b[0mj\u001b[0m\u001b[0;34m]\u001b[0m \u001b[0;34m+\u001b[0m \u001b[0mm\u001b[0m\u001b[0;34m[\u001b[0m\u001b[0mj\u001b[0m\u001b[0;34m]\u001b[0m\u001b[0;34m)\u001b[0m\u001b[0;34m/\u001b[0m\u001b[0mgamma\u001b[0m\u001b[0;34m)\u001b[0m \u001b[0;34m*\u001b[0m \u001b[0mX\u001b[0m\u001b[0;34m[\u001b[0m\u001b[0mi\u001b[0m\u001b[0;34m,\u001b[0m \u001b[0mj\u001b[0m\u001b[0;34m]\u001b[0m \u001b[0;32mfor\u001b[0m \u001b[0mj\u001b[0m \u001b[0;32min\u001b[0m \u001b[0mrange\u001b[0m\u001b[0;34m(\u001b[0m\u001b[0mn\u001b[0m\u001b[0;34m)\u001b[0m\u001b[0;34m]\u001b[0m\u001b[0;34m)\u001b[0m\u001b[0;34m)\u001b[0m\u001b[0;34m\u001b[0m\u001b[0m\n\u001b[0m\u001b[1;32m     15\u001b[0m             \u001b[0;32mfor\u001b[0m \u001b[0mj\u001b[0m \u001b[0;32min\u001b[0m \u001b[0mrange\u001b[0m\u001b[0;34m(\u001b[0m\u001b[0mn\u001b[0m\u001b[0;34m)\u001b[0m\u001b[0;34m:\u001b[0m\u001b[0;34m\u001b[0m\u001b[0m\n\u001b[1;32m     16\u001b[0m                 \u001b[0mm\u001b[0m\u001b[0;34m[\u001b[0m\u001b[0mj\u001b[0m\u001b[0;34m]\u001b[0m \u001b[0;34m=\u001b[0m \u001b[0mgamma\u001b[0m \u001b[0;34m*\u001b[0m \u001b[0mlog\u001b[0m\u001b[0;34m(\u001b[0m\u001b[0;36m1\u001b[0m\u001b[0;34m/\u001b[0m\u001b[0mq\u001b[0m\u001b[0;34m[\u001b[0m\u001b[0mj\u001b[0m\u001b[0;34m]\u001b[0m \u001b[0;34m*\u001b[0m \u001b[0mnp\u001b[0m\u001b[0;34m.\u001b[0m\u001b[0msum\u001b[0m\u001b[0;34m(\u001b[0m\u001b[0;34m[\u001b[0m\u001b[0mexp\u001b[0m\u001b[0;34m(\u001b[0m\u001b[0;34m-\u001b[0m\u001b[0;34m(\u001b[0m\u001b[0mgamma\u001b[0m \u001b[0;34m+\u001b[0m \u001b[0mC\u001b[0m\u001b[0;34m[\u001b[0m\u001b[0mi\u001b[0m\u001b[0;34m,\u001b[0m \u001b[0mj\u001b[0m\u001b[0;34m]\u001b[0m \u001b[0;34m+\u001b[0m \u001b[0ml\u001b[0m\u001b[0;34m[\u001b[0m\u001b[0mi\u001b[0m\u001b[0;34m]\u001b[0m\u001b[0;34m)\u001b[0m\u001b[0;34m/\u001b[0m\u001b[0mgamma\u001b[0m\u001b[0;34m)\u001b[0m \u001b[0;34m*\u001b[0m \u001b[0mX\u001b[0m\u001b[0;34m[\u001b[0m\u001b[0mi\u001b[0m\u001b[0;34m,\u001b[0m \u001b[0mj\u001b[0m\u001b[0;34m]\u001b[0m \u001b[0;32mfor\u001b[0m \u001b[0mi\u001b[0m \u001b[0;32min\u001b[0m \u001b[0mrange\u001b[0m\u001b[0;34m(\u001b[0m\u001b[0mn\u001b[0m\u001b[0;34m)\u001b[0m\u001b[0;34m]\u001b[0m\u001b[0;34m)\u001b[0m\u001b[0;34m)\u001b[0m\u001b[0;34m\u001b[0m\u001b[0m\n",
      "\u001b[0;31mKeyboardInterrupt\u001b[0m: "
     ]
    }
   ],
   "source": [
    "eps1 = 1e-7\n",
    "eps = 1e-3\n",
    "gamma_exp, T_exp, opt_point = test_gamma(lambda gamma: sinkhorn(N ** 2, C, p, q, gamma, eps1, eps), gamma=1)\n",
    "gamma_exp_, T_exp_, opt_point_ = test_gamma(lambda gamma: fastgrad(C, p, q, gamma, N ** 2, eps), gamma=1)"
   ]
  },
  {
   "cell_type": "code",
   "execution_count": 68,
   "metadata": {},
   "outputs": [],
   "source": [
    "p = 0\n",
    "\n",
    "for i in range(1, len(gamma_exp)):\n",
    "    if T_exp[i] > T_exp_[i] and T_exp[i-1] <= T_exp_[i-1]:\n",
    "        p = 3/8 * gamma_exp[i] + 5/8 *  gamma_exp[i-1]"
   ]
  },
  {
   "cell_type": "code",
   "execution_count": 69,
   "metadata": {},
   "outputs": [
    {
     "data": {
      "text/plain": [
       "0.31396685313786016"
      ]
     },
     "execution_count": 69,
     "metadata": {},
     "output_type": "execute_result"
    }
   ],
   "source": [
    "p"
   ]
  },
  {
   "cell_type": "code",
   "execution_count": 72,
   "metadata": {},
   "outputs": [
    {
     "data": {
      "image/png": "[encoded data removed]",
      "text/plain": [
       "<matplotlib.figure.Figure at 0x11d04ea90>"
      ]
     },
     "metadata": {},
     "output_type": "display_data"
    }
   ],
   "source": [
    "plt.title(\"$\\epsilon = 10^{-3}$\")\n",
    "plt.xlabel(\"$\\gamma$\", fontsize=12)\n",
    "plt.ylabel(\"$N(\\gamma)$\", fontsize=12)\n",
    "plt.plot(gamma_exp, T_exp, label=\"Sinkhorn method\")\n",
    "plt.plot(gamma_exp, T_exp_, label=\"Fast gradient method\")\n",
    "\n",
    "plt.plot([p, p], [0, max(T_exp)], ':')\n",
    "plt.plot([eps / (4 * np.log(N ** 2)), eps / (4 * np.log(N ** 2))], [0, max(T_exp)], 'r:', label=\"$\\gamma^* = \\epsilon\\;/\\;(4\\;ln(n))$\")\n",
    "plt.legend()\n",
    "\n",
    "plt.savefig('eps1e-3.eps', format='eps', dpi=1000)\n",
    "plt.savefig(\"eps1e-3.png\", dpi=1000)"
   ]
  },
  {
   "cell_type": "code",
   "execution_count": null,
   "metadata": {},
   "outputs": [],
   "source": []
  }
 ],
 "metadata": {
  "kernelspec": {
   "display_name": "Python 3",
   "language": "python",
   "name": "python3"
  },
  "language_info": {
   "codemirror_mode": {
    "name": "ipython",
    "version": 3
   },
   "file_extension": ".py",
   "mimetype": "text/x-python",
   "name": "python",
   "nbconvert_exporter": "python",
   "pygments_lexer": "ipython3",
   "version": "3.6.4"
  }
 },
 "nbformat": 4,
 "nbformat_minor": 2
}
