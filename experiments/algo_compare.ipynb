{
 "cells": [
  {
   "cell_type": "code",
   "execution_count": null,
   "metadata": {},
   "outputs": [],
   "source": [
    "import numpy as np\n",
    "import sys; sys.path.append('../')\n",
    "\n",
    "from lib import FastGradientDescent\n",
    "from lib import SinkhornMethod\n",
    "from lib import LinearCouplingMethod\n",
    "from lib import DualGradientDescent\n",
    "from lib import Experiments"
   ]
  },
  {
   "cell_type": "code",
   "execution_count": null,
   "metadata": {},
   "outputs": [],
   "source": [
    "def fastgrad(C, p, q, gamma=0.1, eps=0.01, log=False):\n",
    "    fgm = FastGradientDescent(gamma, n=p.shape[0], epsilon=eps)\n",
    "    x, iterations_num = fgm.fit(C, p, q)\n",
    "    return x, iterations_num, 0\n",
    "\n",
    "def sinkhorn(C, p, q, gamma=0.1, eps=0.01, log=False):\n",
    "    sm = SinkhornMethod(gamma, n=p.shape[0], epsilon=eps, log=log)\n",
    "    x, inner_iterations_num, outer_iterations_num = sm.fit(C, p, q, with_prox=False)\n",
    "    return x, inner_iterations_num, outer_iterations_num\n",
    "\n",
    "def dualgrad(C, p, q, gamma=0.1, eps=0.01, log=False):\n",
    "    sm = DualGradientDescent(gamma, eps, p.shape[0])\n",
    "    x, inner_iterations_num = sm.fit(C, p, q)\n",
    "    return x, inner_iterations_num, 0"
   ]
  },
  {
   "cell_type": "code",
   "execution_count": null,
   "metadata": {},
   "outputs": [],
   "source": [
    "problems = []\n",
    "\n",
    "for i in range(10, 20, 1):\n",
    "    (C, p, q) = Experiments.load_data('test_data/1.png', 'test_data/2.png', show=i==15, size=i)\n",
    "    problems.append((C, p, q))"
   ]
  },
  {
   "cell_type": "code",
   "execution_count": null,
   "metadata": {},
   "outputs": [],
   "source": [
    "max_gamma = 1.2\n",
    "min_gamma = 0.5\n",
    "stp_gamma = 1.5\n",
    "epsilon = 0.01\n",
    "\n",
    "epsilons, gammas, iterations = Experiments.test([problems[0]], \n",
    "                                                config={'eps': (epsilon, epsilon, 1), \n",
    "                                                        'gamma': (max_gamma, min_gamma, stp_gamma)},\n",
    "                                                methods=[sinkhorn,\n",
    "                                                         fastgrad,\n",
    "                                                         dualgrad])"
   ]
  },
  {
   "cell_type": "code",
   "execution_count": null,
   "metadata": {},
   "outputs": [],
   "source": [
    "Experiments.plot_algorithm_comparation(gammas, iterations, epsilon, p.shape[0], [\"Sinkhorn Method\", \"Fast Gradient Method\", \"Dual Gradient Method\"])"
   ]
  }
 ],
 "metadata": {
  "kernelspec": {
   "display_name": "Python 3",
   "language": "python",
   "name": "python3"
  },
  "language_info": {
   "codemirror_mode": {
    "name": "ipython",
    "version": 3
   },
   "file_extension": ".py",
   "mimetype": "text/x-python",
   "name": "python",
   "nbconvert_exporter": "python",
   "pygments_lexer": "ipython3",
   "version": "3.5.2"
  }
 },
 "nbformat": 4,
 "nbformat_minor": 2
}
