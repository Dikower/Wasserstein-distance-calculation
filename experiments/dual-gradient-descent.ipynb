{
 "cells": [
  {
   "cell_type": "code",
   "execution_count": 1,
   "metadata": {
    "collapsed": true
   },
   "outputs": [],
   "source": [
    "import numpy as np"
   ]
  },
  {
   "cell_type": "code",
   "execution_count": 2,
   "metadata": {
    "collapsed": true
   },
   "outputs": [],
   "source": [
    "class DualGradientDescent:\n",
    "    def __init__(self, gamma, epsilon, n):\n",
    "        self.gamma   = gamma\n",
    "        self.epsilon = epsilon\n",
    "        self.n       = n\n",
    "        \n",
    "        self.lam = np.zeros(n)\n",
    "        self.mu     = np.zeros(n)\n",
    "        self.x_sum  = 0\n",
    "        self.x_0    = np.ones([n, n]) / (n**2)\n",
    "    \n",
    "    def f(self, x):\n",
    "        return (self.c * x).sum() + self.gamma * (x * np.log(x / self.x_0)).sum()\n",
    "    \n",
    "    def phi(self, lam, mu, n):\n",
    "        return (lam * self.p).sum() + (mu * self.q).sum() + \\\n",
    "                self.gamma * np.log(1/np.e * (self.x_0 * np.exp(\n",
    "                    -(self.gamma + self.c + lam.repeat(n).reshape(-1, n) + mu.repeat(n).reshape(-1, n).T) / self.gamma\n",
    "                )).sum())\n",
    "        \n",
    "    def x_hat(self, lam, mu, n):\n",
    "        x_hat = self.x_0 * np.exp(\n",
    "            -(self.gamma + self.c + lam.repeat(n).reshape(-1, n) + mu.repeat(n).reshape(-1, n).T) / self.gamma\n",
    "        )\n",
    "        return x_hat / x_hat.sum()\n",
    "    \n",
    "    def _new_lm(self, p, q):\n",
    "        x_hat = self.x_hat(self.lam, self.mu, self.n)\n",
    "        return self.lam - self.gamma * (p - x_hat.sum(1)),\\\n",
    "               self.mu - self.gamma * (q - x_hat.sum(0))\n",
    "        \n",
    "    def x_sum_update(self):\n",
    "        self.x_sum += self.x_hat(self.lam, self.mu, self.n)\n",
    "        \n",
    "    def _new_x_wave(self, k):\n",
    "        return self.x_sum * 1/k\n",
    "    \n",
    "    def deviation_p_q(self, x, p, q):\n",
    "        return np.sqrt(np.sum((x.sum(1) - p)**2) + np.sum((x.sum(0) - q)**2))\n",
    "    \n",
    "    def fit(self, c, p, q):\n",
    "        self.c, self.p, self.q = c, p, q\n",
    "        \n",
    "        k = 1\n",
    "        while True:\n",
    "            self.lam, self.mu = self._new_lm(self.p, self.q)\n",
    "            self.x_sum_update()\n",
    "            self.x_wave = self._new_x_wave(k)\n",
    "            R = np.sqrt(np.linalg.norm(self.lam) + np.linalg.norm(self.mu))\n",
    "            epsilon_wave = self.epsilon / R\n",
    "            \n",
    "            criteria_a = self.deviation_p_q(self.x_wave, self.p, self.q) < epsilon_wave\n",
    "            criteria_b = self.f(self.x_wave) + self.phi(self.lam, self.mu, self.n) < self.epsilon\n",
    "            \n",
    "            if k % 100 == 0:\n",
    "                print(f'iteration {k}:   criteria 1 = {round(self.deviation_p_q(self.x_wave, self.p, self.q), 7)}, ' + \\\n",
    "                                     f'criteria 2 = {round(self.f(self.x_wave) + self.phi(self.lam, self.mu, self.n), 7)}')\n",
    "            \n",
    "            if criteria_a and criteria_b:\n",
    "                return self.x_wave, k\n",
    "            \n",
    "            k += 1"
   ]
  },
  {
   "cell_type": "code",
   "execution_count": 3,
   "metadata": {
    "collapsed": true,
    "scrolled": false
   },
   "outputs": [],
   "source": [
    "def sample_batch(n):\n",
    "    c = np.random.uniform(0, 10, size=[n, n])\n",
    "    p = np.random.dirichlet(np.ones(n), size=1).ravel()\n",
    "    q = np.random.dirichlet(np.ones(n), size=1).ravel()\n",
    "    return c, p, q"
   ]
  },
  {
   "cell_type": "code",
   "execution_count": 4,
   "metadata": {},
   "outputs": [
    {
     "name": "stdout",
     "output_type": "stream",
     "text": [
      "iteration 100:   criteria 1 = 0.2178951, criteria 2 = -0.6836377\n",
      "iteration 200:   criteria 1 = 0.1076421, criteria 2 = -0.4427657\n",
      "iteration 300:   criteria 1 = 0.0717497, criteria 2 = -0.3624984\n",
      "iteration 400:   criteria 1 = 0.0538121, criteria 2 = -0.3221349\n",
      "iteration 500:   criteria 1 = 0.0430497, criteria 2 = -0.2978355\n",
      "iteration 600:   criteria 1 = 0.0358747, criteria 2 = -0.2816013\n",
      "iteration 700:   criteria 1 = 0.0307498, criteria 2 = -0.2699883\n",
      "iteration 800:   criteria 1 = 0.026906, criteria 2 = -0.261269\n",
      "iteration 900:   criteria 1 = 0.0239165, criteria 2 = -0.2544818\n",
      "iteration 1000:   criteria 1 = 0.0215248, criteria 2 = -0.2490483\n",
      "iteration 1100:   criteria 1 = 0.019568, criteria 2 = -0.2446004\n",
      "iteration 1200:   criteria 1 = 0.0179374, criteria 2 = -0.2408922\n",
      "iteration 1300:   criteria 1 = 0.0165576, criteria 2 = -0.2377532\n",
      "iteration 1400:   criteria 1 = 0.0153749, criteria 2 = -0.2350619\n",
      "iteration 1500:   criteria 1 = 0.0143499, criteria 2 = -0.2327287\n",
      "iteration 1600:   criteria 1 = 0.013453, criteria 2 = -0.2306867\n",
      "iteration 1700:   criteria 1 = 0.0126617, criteria 2 = -0.2288845\n",
      "iteration 1800:   criteria 1 = 0.0119582, criteria 2 = -0.2272823\n",
      "iteration 1900:   criteria 1 = 0.0113289, criteria 2 = -0.2258484\n",
      "iteration 2000:   criteria 1 = 0.0107624, criteria 2 = -0.2245578\n",
      "iteration 2100:   criteria 1 = 0.0102499, criteria 2 = -0.2233899\n",
      "iteration 2200:   criteria 1 = 0.009784, criteria 2 = -0.2223281\n",
      "iteration 2300:   criteria 1 = 0.0093586, criteria 2 = -0.2213585\n",
      "iteration 2400:   criteria 1 = 0.0089687, criteria 2 = -0.2204696\n",
      "iteration 2500:   criteria 1 = 0.0086099, criteria 2 = -0.2196517\n",
      "iteration 2600:   criteria 1 = 0.0082788, criteria 2 = -0.2188967\n",
      "iteration 2700:   criteria 1 = 0.0079722, criteria 2 = -0.2181975\n",
      "iteration 2800:   criteria 1 = 0.0076874, criteria 2 = -0.2175483\n",
      "iteration 2900:   criteria 1 = 0.0074224, criteria 2 = -0.2169437\n",
      "iteration 3000:   criteria 1 = 0.0071749, criteria 2 = -0.2163795\n",
      "iteration 3100:   criteria 1 = 0.0069435, criteria 2 = -0.2158516\n",
      "iteration 3200:   criteria 1 = 0.0067265, criteria 2 = -0.2153567\n",
      "iteration 3300:   criteria 1 = 0.0065227, criteria 2 = -0.2148917\n",
      "iteration 3400:   criteria 1 = 0.0063308, criteria 2 = -0.2144541\n",
      "iteration 3500:   criteria 1 = 0.00615, criteria 2 = -0.2140414\n",
      "iteration 3600:   criteria 1 = 0.0059791, criteria 2 = -0.2136517\n",
      "iteration 3700:   criteria 1 = 0.0058175, criteria 2 = -0.213283\n",
      "iteration 3800:   criteria 1 = 0.0056644, criteria 2 = -0.2129337\n"
     ]
    }
   ],
   "source": [
    "n = 3\n",
    "c, p, q = sample_batch(n)\n",
    "x, k = DualGradientDescent(gamma=0.1, epsilon=1e-2, n=n).fit(c, p, q)"
   ]
  },
  {
   "cell_type": "code",
   "execution_count": 5,
   "metadata": {},
   "outputs": [
    {
     "data": {
      "text/plain": [
       "(array([[  5.08155564e-16,   3.01431401e-01,   3.57091856e-02],\n",
       "        [  7.17533040e-02,   2.33849364e-01,   1.14722261e-24],\n",
       "        [  3.72051173e-28,   3.57212495e-01,   4.42501530e-05]]), 3869)"
      ]
     },
     "execution_count": 5,
     "metadata": {},
     "output_type": "execute_result"
    }
   ],
   "source": [
    "x, k"
   ]
  }
 ],
 "metadata": {
  "kernelspec": {
   "display_name": "Python 3",
   "language": "python",
   "name": "python3"
  },
  "language_info": {
   "codemirror_mode": {
    "name": "ipython",
    "version": 3
   },
   "file_extension": ".py",
   "mimetype": "text/x-python",
   "name": "python",
   "nbconvert_exporter": "python",
   "pygments_lexer": "ipython3",
   "version": "3.6.2"
  }
 },
 "nbformat": 4,
 "nbformat_minor": 2
}
