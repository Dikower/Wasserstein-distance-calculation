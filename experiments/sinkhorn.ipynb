{
 "cells": [
  {
   "cell_type": "code",
   "execution_count": 1,
   "metadata": {},
   "outputs": [],
   "source": [
    "import numpy as np"
   ]
  },
  {
   "cell_type": "code",
   "execution_count": 12,
   "metadata": {},
   "outputs": [],
   "source": [
    "class SinkhornMethod:\n",
    "    def __init__(self, gamma, dim=5, epsilon=1e-3, proxy_epsilon=1e-7):\n",
    "        \"\"\"\n",
    "        Sinkhorn Method for Transport Problem\n",
    "        :param gamma: regularizer multiplier\n",
    "        :param dim: transport vector dimension\n",
    "        :param epsilon: desired accuracy\n",
    "        \"\"\"\n",
    "        \n",
    "        self.X = 1/n**2 * np.ones((n, n))\n",
    "        self.X_k = None\n",
    "        \n",
    "        # Dual func variables for indicator functions\n",
    "        self.l = np.ones(dim)\n",
    "        self.m = np.ones(dim)\n",
    "        \n",
    "        # Constants\n",
    "        self.gamma = gamma\n",
    "        self.n = dim\n",
    "        self.epsilon = epsilon\n",
    "        self.proxy_epsilon = proxy_epsilon\n",
    "    \n",
    "    def _new_lag(self, C, p, q):\n",
    "        \"\"\"\n",
    "        Calculates Lagrange equation variables\n",
    "        \"\"\"\n",
    "        self.l = [self.gamma * log(1/p[i] * np.sum([exp(-(self.gamma + C[i, j] + self.m[j])/self.gamma) * \\\n",
    "            self.X_k[i, j] for j in range(self.n)])) for i in range(self.n)]\n",
    "        self.m = [self.gamma * log(1/q[j] * np.sum([exp(-(self.gamma + C[i, j] + self.l[i])/self.gamma) * \\\n",
    "            self.X_k[i, j] for i in range(self.n)])) for j in range(self.n)]\n",
    "    \n",
    "    def _new_X(self, C, p, q):\n",
    "        for i in range(self.n):\n",
    "            for j in range(self.n):\n",
    "                self.X[i][j] = self.X_k[i, j] * exp(- (self.gamma + C[i,j] + self.l[i] + self.m[j])/self.gamma)\n",
    "    \n",
    "    def _cond_error(self, p, q):\n",
    "        return np.sum(abs(norm(self.X, 1, axis=1) - p)) + np.sum(abs(norm(self.X, 1, axis=0) - q))\n",
    "    \n",
    "    def _new_fi(self, C, p, q):\n",
    "        xx = 0\n",
    "        \n",
    "        for i in range(self.n):\n",
    "            for j in range(self.n):\n",
    "                xx += np.exp(-(C[i,j] + self.l[i] + self.m[j] + self.gamma) / self.gamma)\n",
    "                \n",
    "        return (np.sum([self.l[i]*p[i] for i in range(self.n)]) +\\\n",
    "            np.sum([self.m[j]*q[j] for j in range(self.n)]) + self.gamma * xx)\n",
    "    \n",
    "    def _new_f(self, C):\n",
    "        return np.sum([C[i, j] * self.X[i,j] for i in range(self.n) for j in range(self.n)])\n",
    "    \n",
    "    def fit(self, C, p, q):\n",
    "        tt = 0\n",
    "        \n",
    "        while self.f - self.fi > self.proxy_epsilon:\n",
    "            self.X_k = self.X.copy()\n",
    "            tt += 1\n",
    "            t = 0\n",
    "            \n",
    "            while self._cond_error(p, q) > self.epsilon:\n",
    "                t += 1\n",
    "                self._new_lag(C, p, q)\n",
    "                self._new_X(C, p, q)\n",
    "                \n",
    "            self.fi = self._new_fi(C, p, q)\n",
    "            self.f = self._new_f(C)\n",
    "            \n",
    "        return self.X, t, tt"
   ]
  },
  {
   "cell_type": "code",
   "execution_count": null,
   "metadata": {},
   "outputs": [],
   "source": []
  }
 ],
 "metadata": {
  "kernelspec": {
   "display_name": "Python 3",
   "language": "python",
   "name": "python3"
  },
  "language_info": {
   "codemirror_mode": {
    "name": "ipython",
    "version": 3
   },
   "file_extension": ".py",
   "mimetype": "text/x-python",
   "name": "python",
   "nbconvert_exporter": "python",
   "pygments_lexer": "ipython3",
   "version": "3.6.4"
  }
 },
 "nbformat": 4,
 "nbformat_minor": 2
}
