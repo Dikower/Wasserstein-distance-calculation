{
 "cells": [
  {
   "cell_type": "code",
   "execution_count": 1,
   "metadata": {},
   "outputs": [],
   "source": [
    "import numpy as np"
   ]
  },
  {
   "cell_type": "code",
   "execution_count": 6,
   "metadata": {},
   "outputs": [],
   "source": [
    "class SinkhornMethod:\n",
    "    def __init__(self, gamma, n=5, epsilon=1e-3, proxy_epsilon=1e-7):\n",
    "        self.l = np.ones(n)\n",
    "        self.m = np.ones(n)\n",
    "        self.X = 1/n**2 * np.ones((n, n))\n",
    "        self.X_k = 0\n",
    "        \n",
    "        #---------------------#\n",
    "        # constants\n",
    "        self.n = n\n",
    "        self.epsilon = epsilon\n",
    "        self.proxy_epsilon = proxy_epsilon\n",
    "        self.gamma = gamma\n",
    "    \n",
    "    def _new_lag(self, C, p, q):\n",
    "        for i in range(self.n):\n",
    "            self.l[i] = self.gamma * log(1/p[i] * np.sum([exp(-(self.gamma + C[i, j] + self.m[j])/self.gamma) * self.X_k[i, j] for j in range(self.n)]))\n",
    "        for j in range(self.n):\n",
    "            self.m[j] = self.gamma * log(1/q[j] * np.sum([exp(-(self.gamma + C[i, j] + self.l[i])/self.gamma) * self.X_k[i, j] for i in range(self.n)]))\n",
    "    \n",
    "    def _new_X(self, C, p, q):\n",
    "        for i in range(self.n):\n",
    "            for j in range(self.n):\n",
    "                self.X[i,j] = self.X_k[i, j] * exp(- (self.gamma + C[i,j] + self.l[i] + self.m[j])/self.gamma)\n",
    "    \n",
    "    def _cond_error(self, p, q):\n",
    "        return np.sum(abs(norm(self.X, 1, axis=1) - p)) + np.sum(abs(norm(self.X, 1, axis=0) - q))\n",
    "    \n",
    "    def _new_fi(self, C, p, q):\n",
    "        xx = 0\n",
    "        for i in range(self.n):\n",
    "            for j in range(self.n):\n",
    "                xx += np.exp(-(C[i,j] + self.l[i] + self.m[j] + self.gamma) / self.gamma)\n",
    "        return (np.sum([self.l[i]*p[i] for i in range(self.n)]) + np.sum([self.m[j]*q[j] for j in range(self.n)]) + self.gamma * xx)\n",
    "    \n",
    "    def _new_f(self, C):\n",
    "        return np.sum([C[i, j] * self.X[i,j] for i in range(self.n) for j in range(self.n)])\n",
    "    \n",
    "    def fit(self, C, p, q):\n",
    "        tt = 0\n",
    "        while True:\n",
    "            self.X_k = self.X.copy()\n",
    "            tt += 1\n",
    "            t = 0\n",
    "            while True:\n",
    "                t += 1\n",
    "                self._new_lag(C, p, q)\n",
    "                self._new_X(C, p, q)\n",
    "                if self._cond_error(p, q) <= self.epsilon:\n",
    "                    break\n",
    "            self.fi = self._new_fi(C, p, q)\n",
    "            self.f = self._new_f(C)\n",
    "            if self.f - self.fi <= self.proxy_epsilon:\n",
    "                return self.X, t, tt"
   ]
  }
 ],
 "metadata": {
  "kernelspec": {
   "display_name": "Python 3",
   "language": "python",
   "name": "python3"
  },
  "language_info": {
   "codemirror_mode": {
    "name": "ipython",
    "version": 3
   },
   "file_extension": ".py",
   "mimetype": "text/x-python",
   "name": "python",
   "nbconvert_exporter": "python",
   "pygments_lexer": "ipython3",
   "version": "3.5.2"
  }
 },
 "nbformat": 4,
 "nbformat_minor": 2
}
