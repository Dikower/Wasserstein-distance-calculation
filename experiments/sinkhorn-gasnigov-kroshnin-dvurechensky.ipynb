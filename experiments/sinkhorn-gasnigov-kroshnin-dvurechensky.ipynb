{
 "cells": [
  {
   "cell_type": "markdown",
   "metadata": {},
   "source": [
    "# Implemetation of Sinkhorn Algorithm from this [paper](https://arxiv.org/pdf/1802.04367.pdf)\n",
    "\n",
    "### TODO: \n",
    " * pseudocode"
   ]
  },
  {
   "cell_type": "code",
   "execution_count": 1,
   "metadata": {},
   "outputs": [],
   "source": [
    "import numpy as np"
   ]
  },
  {
   "cell_type": "code",
   "execution_count": 2,
   "metadata": {},
   "outputs": [],
   "source": [
    "def B(u, v, C, gamma):\n",
    "    K = np.exp(-C/gamma)\n",
    "    return np.matmul(np.matmul(np.diag(np.exp(u)), K), np.diag(np.exp(v)))"
   ]
  },
  {
   "cell_type": "code",
   "execution_count": 3,
   "metadata": {},
   "outputs": [],
   "source": [
    "def sinkhorn(C, r, c, epsilon, gamma=0.5):  \n",
    "    u = np.zeros(len(C))\n",
    "    v = np.zeros(len(C))    \n",
    "    \n",
    "    k = 0\n",
    "    while True:\n",
    "        if k % 2 == 0:\n",
    "            u = u + np.log(r) - np.log(B(u, v, C, gamma).sum(1))\n",
    "            \n",
    "        else:\n",
    "            v = v + np.log(c) - np.log(B(u, v, C, gamma).sum(0))\n",
    "        \n",
    "        k += 1\n",
    "        \n",
    "        if np.abs(B(u, v, C, gamma).sum(1) - r).sum() +\\\n",
    "           np.abs(B(u, v, C, gamma).sum(0) - c).sum() <= epsilon:\n",
    "            break\n",
    "            \n",
    "    return B(u, v, C, gamma), k"
   ]
  },
  {
   "cell_type": "code",
   "execution_count": 4,
   "metadata": {},
   "outputs": [],
   "source": [
    "def sample_batch(n):\n",
    "    C = np.random.uniform(0, 10, size=[n, n])\n",
    "    p = np.random.dirichlet(np.ones(5), size=1).ravel()\n",
    "    q = np.random.dirichlet(np.ones(5), size=1).ravel()\n",
    "    return C, p, q"
   ]
  },
  {
   "cell_type": "code",
   "execution_count": 23,
   "metadata": {},
   "outputs": [],
   "source": [
    "# matrix size NxN\n",
    "N = 5\n",
    "# number of experiments per gamma\n",
    "n_exp_per_gamma = 1000\n",
    "\n",
    "n_iterations = list()\n",
    "for gamma in np.linspace(1e-4, 1, 25):\n",
    "    for _ in range(n_exp_per_gamma):\n",
    "        c, p, q = sample_batch(N)\n",
    "        n_iterations.append(sinkhorn(c, p, q, gamma)[-1])\n",
    "        \n",
    "n_iterations = np.array(n_iterations)"
   ]
  },
  {
   "cell_type": "code",
   "execution_count": 25,
   "metadata": {},
   "outputs": [
    {
     "data": {
      "text/plain": [
       "[<matplotlib.lines.Line2D at 0x7f596656d9b0>]"
      ]
     },
     "execution_count": 25,
     "metadata": {},
     "output_type": "execute_result"
    },
    {
     "data": {
      "image/png": "[encoded data removed]",
      "text/plain": [
       "<matplotlib.figure.Figure at 0x7f59667c2b00>"
      ]
     },
     "metadata": {},
     "output_type": "display_data"
    }
   ],
   "source": [
    "import matplotlib.pyplot as plt\n",
    "%matplotlib inline\n",
    "\n",
    "plt.plot(np.linspace(1e-4, 1, 25), n_iterations.reshape(-1, n_exp_per_gamma).sum(-1))"
   ]
  }
 ],
 "metadata": {
  "kernelspec": {
   "display_name": "Python 3",
   "language": "python",
   "name": "python3"
  },
  "language_info": {
   "codemirror_mode": {
    "name": "ipython",
    "version": 3
   },
   "file_extension": ".py",
   "mimetype": "text/x-python",
   "name": "python",
   "nbconvert_exporter": "python",
   "pygments_lexer": "ipython3",
   "version": "3.6.4"
  }
 },
 "nbformat": 4,
 "nbformat_minor": 2
}
