{
 "cells": [
  {
   "cell_type": "markdown",
   "metadata": {},
   "source": [
    "# Implemetation of Sinkhorn Algorithm from this [paper](https://arxiv.org/pdf/1802.04367.pdf)\n",
    "\n",
    "### TODO: \n",
    " * pseudocode"
   ]
  },
  {
   "cell_type": "code",
   "execution_count": 1,
   "metadata": {},
   "outputs": [],
   "source": [
    "import numpy as np"
   ]
  },
  {
   "cell_type": "code",
   "execution_count": 101,
   "metadata": {},
   "outputs": [],
   "source": [
    "def B(u, v, C, gamma):j   \n",
    "    K = np.exp(-C/gamma)\n",
    "    return np.matmul(np.matmul(np.diag(np.exp(u)), K), np.diag(np.exp(v)))"
   ]
  },
  {
   "cell_type": "code",
   "execution_count": 136,
   "metadata": {},
   "outputs": [],
   "source": [
    "def sinkhorn(C, r, c, epsilon, gamma=0.5):  \n",
    "    u = np.zeros(len(C))\n",
    "    v = np.zeros(len(C))    \n",
    "    \n",
    "    k = 0\n",
    "    while True:\n",
    "        if k % 2 == 0:\n",
    "            u = u + np.log(r) - np.log(B(u, v, C, gamma).sum(1))\n",
    "            \n",
    "        else:\n",
    "            v = v + np.log(c) - np.log(B(u, v, C, gamma).sum(0))\n",
    "        \n",
    "        k += 1\n",
    "        \n",
    "        if np.abs(B(u, v, C, gamma).sum(1) - r).sum() +\\\n",
    "           np.abs(B(u, v, C, gamma).sum(0) - c).sum() <= epsilon:\n",
    "            break\n",
    "            \n",
    "    return B(u, v, C, gamma), k"
   ]
  },
  {
   "cell_type": "code",
   "execution_count": 137,
   "metadata": {},
   "outputs": [],
   "source": [
    "def generate_random_experiment(n):\n",
    "    C = np.random.random((n, n)) * 10\n",
    "    p = np.random.random((n, ))\n",
    "    p /= sum(p)\n",
    "    q = np.random.random((n, ))\n",
    "    q /= sum(q)\n",
    "    return C, p, q"
   ]
  },
  {
   "cell_type": "code",
   "execution_count": 170,
   "metadata": {},
   "outputs": [
    {
     "data": {
      "text/plain": [
       "(array([[  1.90401466e-04,   1.63888660e-04,   2.78601124e-02,\n",
       "           1.49410014e-07,   1.80416487e-01],\n",
       "        [  3.20809538e-04,   5.44442109e-04,   1.55242034e-01,\n",
       "           1.89806156e-04,   1.39161898e-04],\n",
       "        [  3.95958169e-02,   3.82453687e-02,   4.27696415e-08,\n",
       "           9.99693455e-10,   1.33718627e-08],\n",
       "        [  1.57234995e-07,   9.56476787e-05,   1.82184879e-03,\n",
       "           2.68913578e-01,   5.72706998e-02],\n",
       "        [  2.04834407e-01,   2.26823163e-07,   2.91208020e-08,\n",
       "           2.41480272e-02,   6.84276273e-06]]), 17)"
      ]
     },
     "execution_count": 170,
     "metadata": {},
     "output_type": "execute_result"
    }
   ],
   "source": [
    "C, r, c = generate_random_experiment(5)\n",
    "\n",
    "assert(np.all(C > 0)) \n",
    "assert(np.all(r > 0) and np.all(c > 0) and np.sum(r) == 1 and np.sum(c) == 1)\n",
    "\n",
    "sinkhorn(C, r, c, epsilon=0.1)"
   ]
  },
  {
   "cell_type": "code",
   "execution_count": null,
   "metadata": {},
   "outputs": [],
   "source": []
  }
 ],
 "metadata": {
  "kernelspec": {
   "display_name": "Python 3",
   "language": "python",
   "name": "python3"
  },
  "language_info": {
   "codemirror_mode": {
    "name": "ipython",
    "version": 3
   },
   "file_extension": ".py",
   "mimetype": "text/x-python",
   "name": "python",
   "nbconvert_exporter": "python",
   "pygments_lexer": "ipython3",
   "version": "3.6.4"
  }
 },
 "nbformat": 4,
 "nbformat_minor": 2
}
