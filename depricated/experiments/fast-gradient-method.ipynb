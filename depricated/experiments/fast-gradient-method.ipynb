{
 "cells": [
  {
   "cell_type": "code",
   "execution_count": 12,
   "metadata": {},
   "outputs": [],
   "source": [
    "import numpy as np"
   ]
  },
  {
   "cell_type": "code",
   "execution_count": 64,
   "metadata": {},
   "outputs": [],
   "source": [
    "class FastGrad:\n",
    "    def __init__(self, gamma, epsilon, n):\n",
    "        self.gamma = gamma\n",
    "        self.epsilon = epsilon\n",
    "        self.n = n\n",
    "        self.inf = 1e+6\n",
    "        self.l = 1 / gamma\n",
    "\n",
    "        self.a = self.alpha = 0\n",
    "        \n",
    "        self.u_lambda = self.u_mu = np.ones([n])\n",
    "        self.y_lambda = self.y_mu = np.zeros(n)\n",
    "        self.x_lambda = self.x_mu = np.ones([n])\n",
    "        \n",
    "        self.x_0 = np.ones([n, n]) / (n**2)\n",
    "\n",
    "    \n",
    "    def x_hat(self, c, lambda_y, mu_y):\n",
    "        n = self.n\n",
    "        x_hat = self.x_0 * np.exp(\n",
    "            -(self.gamma + c + lambda_y.repeat(n).reshape(-1, n) + mu_y.repeat(n).reshape(-1, n).T) / self.gamma\n",
    "        )\n",
    "        return x_hat / x_hat.sum()\n",
    "    \n",
    "    def _new_alpha(self):\n",
    "        return 1 / (2 * self.l) + np.sqrt(1 / (4 * (self.l**2)) + self.alpha**2)\n",
    "    \n",
    "    def _new_a(self, new_alpha):\n",
    "        return self.a + new_alpha\n",
    "    \n",
    "    def _new_y(self, u_lambda, u_mu, x_lambda, x_mu):\n",
    "        new_alpha = self._new_alpha()\n",
    "        new_a = self._new_a(new_alpha)\n",
    "        \n",
    "        return (new_alpha * u_lambda + self.a * x_lambda) / new_a,\\\n",
    "               (new_alpha * u_mu     + self.a * x_mu)     / new_a\n",
    "    \n",
    "    def _new_u(self, c, u_lambda, u_mu, y_lambda_new, y_mu_new):\n",
    "        x_hat = self.x_hat(c, y_lambda_new, y_mu_new)\n",
    "        new_alpha = self._new_alpha()\n",
    "        \n",
    "        return u_lambda - new_alpha * (p - x_hat.sum(1)),\\\n",
    "               u_mu     - new_alpha * (q - x_hat.sum(0))\n",
    "    \n",
    "    def _new_x(self, u_lambda_new, u_mu_new, x_lambda, x_mu):\n",
    "        new_alpha = self._new_alpha()\n",
    "        new_a = self._new_a(new_alpha)\n",
    "        \n",
    "        return (new_alpha * u_lambda_new + self.a * x_lambda) / new_a,\\\n",
    "               (new_alpha * u_mu_new     + self.a * x_mu)     / new_a\n",
    "    \n",
    "    def f(self, c, x):\n",
    "        return (c * x).sum() + self.gamma * (x * np.log(x / self.x_0)).sum()\n",
    "    \n",
    "    def phi(self, c, p, q, lambda_x, mu_x):\n",
    "        return -(lambda_x * p).sum() - (mu_x * q).sum() - \\\n",
    "                self.gamma * np.log(1/np.e * (self.x_0 * np.exp(\n",
    "                    -(self.gamma + c + lambda_x.repeat(self.n).reshape(-1, self.n) + mu_x.repeat(self.n).reshape(-1, self.n).T) / self.gamma\n",
    "                )).sum())\n",
    "    \n",
    "    def deviation_p_q(self, x, p, q):\n",
    "        return np.sqrt(np.sum((x.sum(1) - p)**2) + np.sum((x.sum(0) - q)**2))\n",
    "    \n",
    "    def fit(self, c, p, q):\n",
    "        k = 0\n",
    "        \n",
    "        while True:\n",
    "            y_lambda_new, y_mu_new = self._new_y(self.u_lambda, self.u_mu, self.x_lambda, self.x_mu)\n",
    "            u_lambda_new, u_mu_new = self._new_u(c, self.u_lambda, self.u_mu, y_lambda_new, y_mu_new)\n",
    "            x_lambda_new, x_mu_new = self._new_x(u_lambda_new, u_mu_new, self.x_lambda, self.x_mu)\n",
    "            \n",
    "            self.y_lambda, self.y_mu = (y_lambda_new, y_mu_new)\n",
    "            self.u_lambda, self.u_mu = (u_lambda_new, u_mu_new)\n",
    "            self.x_lambda, self.x_mu = (x_lambda_new, x_mu_new)\n",
    "            \n",
    "            self.alpha = self._new_alpha()\n",
    "            self.a     = self._new_a(self.alpha)\n",
    "            \n",
    "            x_wave = self.x_hat(c, self.y_lambda, self.y_mu)\n",
    "            r = np.sqrt((self.x_lambda**2).sum() + (self.x_mu**2).sum())\n",
    "            epsilon_wave = self.epsilon / r\n",
    "            \n",
    "            \n",
    "            criteria_a = self.deviation_p_q(x_wave, p, q) <= epsilon_wave\n",
    "            criteria_b = self.f(c, x_wave) - self.phi(c, p, q, self.x_lambda, self.x_mu) <= self.epsilon\n",
    "            \n",
    "            if k % 100 == 0:\n",
    "                print(f\"{self.deviation_p_q(x_wave, p, q)}\")\n",
    "                print(f\"{self.f(c, x_wave) - self.phi(c, p, q, self.x_lambda, self.x_mu)}\\n\")\n",
    "            \n",
    "            if criteria_a and criteria_b:\n",
    "                return x_wave, k\n",
    "            \n",
    "            k += 1"
   ]
  },
  {
   "cell_type": "code",
   "execution_count": 75,
   "metadata": {},
   "outputs": [],
   "source": [
    "fgrad = FastGrad(0.01, 0.01, 3)"
   ]
  },
  {
   "cell_type": "code",
   "execution_count": 76,
   "metadata": {},
   "outputs": [],
   "source": [
    "def sample_batch(n):\n",
    "    C = np.random.uniform(0, 10, size=[n, n])\n",
    "    p = np.random.dirichlet(np.ones(n), size=1).ravel()\n",
    "    q = np.random.dirichlet(np.ones(n), size=1).ravel()\n",
    "    return C, p, q"
   ]
  },
  {
   "cell_type": "code",
   "execution_count": 79,
   "metadata": {},
   "outputs": [],
   "source": [
    "c = np.ones((3, 3))\n",
    "p = np.array([0.2, 0.4, 0.4])\n",
    "q = np.array([0.4, 0.4, 0.2])"
   ]
  },
  {
   "cell_type": "code",
   "execution_count": 80,
   "metadata": {},
   "outputs": [
    {
     "name": "stdout",
     "output_type": "stream",
     "text": [
      "0.1981244005476313\n",
      "-0.01930740004283904\n",
      "\n"
     ]
    },
    {
     "data": {
      "text/plain": [
       "(array([[ 0.07938757,  0.07999048,  0.03958715],\n",
       "        [ 0.16041189,  0.16163015,  0.07999048],\n",
       "        [ 0.15920282,  0.16041189,  0.07938757]]), 6)"
      ]
     },
     "execution_count": 80,
     "metadata": {},
     "output_type": "execute_result"
    }
   ],
   "source": [
    "fgrad.fit(c, p, q)"
   ]
  },
  {
   "cell_type": "code",
   "execution_count": null,
   "metadata": {},
   "outputs": [],
   "source": []
  }
 ],
 "metadata": {
  "kernelspec": {
   "display_name": "Python 3",
   "language": "python",
   "name": "python3"
  },
  "language_info": {
   "codemirror_mode": {
    "name": "ipython",
    "version": 3
   },
   "file_extension": ".py",
   "mimetype": "text/x-python",
   "name": "python",
   "nbconvert_exporter": "python",
   "pygments_lexer": "ipython3",
   "version": "3.6.4"
  }
 },
 "nbformat": 4,
 "nbformat_minor": 2
}
