{
 "cells": [
  {
   "cell_type": "code",
   "execution_count": 29,
   "metadata": {},
   "outputs": [],
   "source": [
    "import numpy as np\n",
    "from numpy import exp, log\n",
    "from numpy.linalg import norm\n",
    "import matplotlib.pyplot as plt"
   ]
  },
  {
   "cell_type": "code",
   "execution_count": 30,
   "metadata": {},
   "outputs": [],
   "source": [
    "n = 4\n",
    "C = np.array([[1, 1, 1, 1],\n",
    "              [1, 1, 1, 1],\n",
    "              [1, 1, 1, 1], \n",
    "              [1, 1, 1, 1]])\n",
    "p = np.array([1, 2, 3, 4])  # i = 1, ..., n\n",
    "q = np.array([2, 3, 1, 4])  # j = 1, ..., n\n",
    "\n",
    "gamma = 1\n",
    "xk = 1/n**2 * np.ones((n, n))"
   ]
  },
  {
   "cell_type": "code",
   "execution_count": 31,
   "metadata": {},
   "outputs": [],
   "source": [
    "def cos(a, b):\n",
    "    return np.dot(a, b) / (np.linalg.norm(a) * np.linalg.norm(b))"
   ]
  },
  {
   "cell_type": "code",
   "execution_count": 32,
   "metadata": {},
   "outputs": [],
   "source": [
    "eps = 1e-6\n",
    "\n",
    "t = 0\n",
    "while not (sum(abs(norm(X, 1, axis=1) - p)) + sum(abs(norm(X, 1, axis=0) - q)) <= eps):\n",
    "    l = gamma * log(1/p * norm(exp(-(gamma + C + m) / gamma) * xk, 1, axis=1))\n",
    "    m = gamma * log(1/q * norm(exp(-(gamma + C + l) / gamma) * xk, 1, axis=1))\n",
    "    X = xk * np.array(exp( -(gamma + C + np.matrix(l).T + m)/gamma ))\n",
    "    \n",
    "    t += 1"
   ]
  },
  {
   "cell_type": "code",
   "execution_count": 33,
   "metadata": {},
   "outputs": [
    {
     "name": "stdout",
     "output_type": "stream",
     "text": [
      "[[0.2 0.3 0.1 0.4]\n",
      " [0.4 0.6 0.2 0.8]\n",
      " [0.6 0.9 0.3 1.2]\n",
      " [0.8 1.2 0.4 1.6]]\n"
     ]
    }
   ],
   "source": [
    "print(X)"
   ]
  },
  {
   "cell_type": "code",
   "execution_count": null,
   "metadata": {},
   "outputs": [],
   "source": []
  }
 ],
 "metadata": {
  "kernelspec": {
   "display_name": "Python 3",
   "language": "python",
   "name": "python3"
  },
  "language_info": {
   "codemirror_mode": {
    "name": "ipython",
    "version": 3
   },
   "file_extension": ".py",
   "mimetype": "text/x-python",
   "name": "python",
   "nbconvert_exporter": "python",
   "pygments_lexer": "ipython3",
   "version": "3.6.4"
  }
 },
 "nbformat": 4,
 "nbformat_minor": 2
}
