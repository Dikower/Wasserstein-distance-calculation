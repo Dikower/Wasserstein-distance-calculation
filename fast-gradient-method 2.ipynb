{
 "cells": [
  {
   "cell_type": "code",
   "execution_count": 7,
   "metadata": {},
   "outputs": [],
   "source": [
    "import numpy as np"
   ]
  },
  {
   "cell_type": "code",
   "execution_count": 204,
   "metadata": {},
   "outputs": [],
   "source": [
    "class FastGradientDescent:\n",
    "    def __init__(self, gamma, epsilon, n):\n",
    "        self.gamma = gamma\n",
    "        self.epsilon = epsilon\n",
    "        self.n = n\n",
    "        self.inf = 1e+6\n",
    "        self.small = 1e-16\n",
    "        self.l = 1 / gamma\n",
    "\n",
    "        self.a = self.alpha = 0\n",
    "        \n",
    "        self.u_lambda = self.u_mu = np.ones([n])\n",
    "        self.y_lambda = self.y_mu = np.zeros(n)\n",
    "        self.x_lambda = self.x_mu = np.ones([n])\n",
    "        \n",
    "        self.x_0 = np.ones([n, n]) / (n**2)\n",
    "\n",
    "    \n",
    "    def x_hat(self, c, lambda_y, mu_y):\n",
    "        a_min = np.min(self.gamma + c + lambda_y.repeat(self.n).reshape(-1, self.n) + mu_y.repeat(self.n).reshape(-1, self.n).T)\n",
    "        exp_ = -(self.gamma + c + lambda_y.repeat(self.n).reshape(-1, self.n) + mu_y.repeat(self.n).reshape(-1, self.n).T - a_min) / self.gamma\n",
    "        exp_[exp_ < -100] = -100\n",
    "        x_hat = self.x_0 * np.exp(\n",
    "            exp_\n",
    "        )\n",
    "        return x_hat / x_hat.sum()\n",
    "    \n",
    "    def _new_alpha(self):\n",
    "        return 1 / (2 * self.l) + np.sqrt(1 / (4 * (self.l**2)) + self.alpha**2)\n",
    "    \n",
    "    def _new_a(self, new_alpha):\n",
    "        return self.a + new_alpha\n",
    "    \n",
    "    def _new_y(self, u_lambda, u_mu, x_lambda, x_mu):\n",
    "        new_alpha = self._new_alpha()\n",
    "        new_a = self._new_a(new_alpha)\n",
    "        \n",
    "        return (new_alpha * u_lambda + self.a * x_lambda) / new_a,\\\n",
    "               (new_alpha * u_mu     + self.a * x_mu)     / new_a\n",
    "    \n",
    "    def _new_u(self, c, u_lambda, u_mu, y_lambda_new, y_mu_new, p, q):\n",
    "        x_hat = self.x_hat(c, y_lambda_new, y_mu_new)\n",
    "        new_alpha = self._new_alpha()\n",
    "        \n",
    "        return u_lambda - new_alpha * (p - x_hat.sum(1)),\\\n",
    "               u_mu     - new_alpha * (q - x_hat.sum(0))\n",
    "    \n",
    "    def _new_x(self, u_lambda_new, u_mu_new, x_lambda, x_mu, p, q):\n",
    "        new_alpha = self._new_alpha()\n",
    "        new_a = self._new_a(new_alpha)\n",
    "        \n",
    "        return (new_alpha * u_lambda_new + self.a * x_lambda) / new_a,\\\n",
    "               (new_alpha * u_mu_new     + self.a * x_mu)     / new_a\n",
    "    \n",
    "    def f(self, c, x):\n",
    "        return (c * x).sum() + self.gamma * ((x + self.small) * np.log((x + self.small) / self.x_0)).sum()\n",
    "    \n",
    "    def phi(self, c, p, q, lambda_x, mu_x):\n",
    "        a_min = np.min(self.gamma + c + lambda_x.repeat(self.n).reshape(-1, self.n) + mu_x.repeat(self.n).reshape(-1, self.n).T)\n",
    "        exp_ = -(self.gamma + c + lambda_x.repeat(self.n).reshape(-1, self.n) + mu_x.repeat(self.n).reshape(-1, self.n).T - a_min) / self.gamma\n",
    "        exp_[exp_ < -100] = -100\n",
    "        return -(lambda_x * p).sum() - (mu_x * q).sum() - \\\n",
    "                self.gamma * np.log(1/np.e * (self.x_0 * np.exp(\n",
    "                    exp_\n",
    "                )).sum())\n",
    "    \n",
    "    def deviation_p_q(self, x, p, q):\n",
    "        return np.sqrt(np.sum((x.sum(1) - p)**2) + np.sum((x.sum(0) - q)**2))\n",
    "    \n",
    "    def fit(self, c, p, q):\n",
    "        k = 0\n",
    "        \n",
    "        while True:\n",
    "            y_lambda_new, y_mu_new = self._new_y(self.u_lambda, self.u_mu, self.x_lambda, self.x_mu)\n",
    "            _c = 1 / (2 * self.n) * (np.sum(y_mu_new) - np.sum(y_lambda_new))\n",
    "            y_lambda_new += _c\n",
    "            y_mu_new -= _c\n",
    "            \n",
    "            u_lambda_new, u_mu_new = self._new_u(c, self.u_lambda, self.u_mu, y_lambda_new, y_mu_new, p, q)\n",
    "            x_lambda_new, x_mu_new = self._new_x(u_lambda_new, u_mu_new, self.x_lambda, self.x_mu, p, q)\n",
    "            \n",
    "            self.y_lambda, self.y_mu = (y_lambda_new, y_mu_new)\n",
    "            self.u_lambda, self.u_mu = (u_lambda_new, u_mu_new)\n",
    "            self.x_lambda, self.x_mu = (x_lambda_new, x_mu_new)\n",
    "            \n",
    "            self.alpha = self._new_alpha()\n",
    "            self.a     = self._new_a(self.alpha)\n",
    "            \n",
    "            x_wave = self.x_hat(c, self.y_lambda, self.y_mu)\n",
    "            r = np.sqrt((self.x_lambda**2).sum() + (self.x_mu**2).sum())\n",
    "            epsilon_wave = self.epsilon / r\n",
    "            \n",
    "            criteria_a = self.deviation_p_q(x_wave, p, q) <= epsilon_wave\n",
    "            criteria_b = self.f(c, x_wave) - self.phi(c, p, q, self.x_lambda, self.x_mu) <= self.epsilon\n",
    "            \n",
    "            if k % 1000 == 0:\n",
    "                print(f'iteration {k}:   criteria 1 = {round(self.deviation_p_q(x_wave, p, q), 7)}, ' + \\\n",
    "                                       f'criteria 2 = {round(self.f(c, x_wave) - self.phi(c, p, q, self.x_lambda, self.x_mu), 7)}')\n",
    "    \n",
    "            if criteria_a and criteria_b:\n",
    "                return x_wave, k\n",
    "            \n",
    "            k += 1"
   ]
  },
  {
   "cell_type": "code",
   "execution_count": 117,
   "metadata": {},
   "outputs": [],
   "source": [
    "def sample_batch(n):\n",
    "    c = np.random.uniform(0, 10, size=[n, n])\n",
    "    p = np.random.dirichlet(np.ones(n), size=1).ravel()\n",
    "    q = np.random.dirichlet(np.ones(n), size=1).ravel()\n",
    "    return c, p, q"
   ]
  },
  {
   "cell_type": "code",
   "execution_count": 118,
   "metadata": {},
   "outputs": [
    {
     "name": "stdout",
     "output_type": "stream",
     "text": [
      "iteration 0:   criteria 1 = 0.1801431, criteria 2 = -0.0101602\n",
      "iteration 10:   criteria 1 = 0.0878568, criteria 2 = -0.0114118\n",
      "iteration 20:   criteria 1 = 0.0285585, criteria 2 = -0.0103486\n",
      "iteration 30:   criteria 1 = 0.0119639, criteria 2 = -0.0101349\n",
      "iteration 40:   criteria 1 = 0.0072328, criteria 2 = -0.0100197\n",
      "iteration 50:   criteria 1 = 0.0046267, criteria 2 = -0.0099963\n",
      "iteration 60:   criteria 1 = 0.0029758, criteria 2 = -0.0100259\n",
      "iteration 70:   criteria 1 = 0.0021981, criteria 2 = -0.0100149\n",
      "iteration 80:   criteria 1 = 0.0015603, criteria 2 = -0.0100016\n",
      "iteration 90:   criteria 1 = 0.0014147, criteria 2 = -0.0099938\n",
      "iteration 100:   criteria 1 = 0.0011313, criteria 2 = -0.0099856\n"
     ]
    }
   ],
   "source": [
    "n = 40\n",
    "c, p, q = sample_batch(n)\n",
    "x, k = FastGradientDescent(gamma=0.005, epsilon=1e-2, n=n).fit(c, p, q)"
   ]
  },
  {
   "cell_type": "code",
   "execution_count": 119,
   "metadata": {},
   "outputs": [],
   "source": [
    "import sys\n",
    "sys.path.append(\"experiments/\")"
   ]
  },
  {
   "cell_type": "code",
   "execution_count": 130,
   "metadata": {},
   "outputs": [],
   "source": [
    "from lib import Experiments"
   ]
  },
  {
   "cell_type": "code",
   "execution_count": 145,
   "metadata": {},
   "outputs": [
    {
     "data": {
      "image/png": "[encoded data removed]",
      "text/plain": [
       "<matplotlib.figure.Figure at 0x11c674978>"
      ]
     },
     "metadata": {},
     "output_type": "display_data"
    }
   ],
   "source": [
    "c_, p_, q_ = Experiments.load_data('experiments/test_data/1.png', 'experiments/test_data/2.png', show=True, size=10)\n",
    "n = p_.shape[0]"
   ]
  },
  {
   "cell_type": "code",
   "execution_count": 205,
   "metadata": {},
   "outputs": [
    {
     "name": "stdout",
     "output_type": "stream",
     "text": [
      "iteration 0:   criteria 1 = 0.2585712, criteria 2 = 1.9941681\n",
      "iteration 1000:   criteria 1 = 0.0230392, criteria 2 = 1.8681706\n",
      "iteration 2000:   criteria 1 = 0.0118222, criteria 2 = 1.95115\n",
      "iteration 3000:   criteria 1 = 0.0126735, criteria 2 = 1.9537534\n",
      "iteration 4000:   criteria 1 = 0.0101017, criteria 2 = 1.9772364\n",
      "iteration 5000:   criteria 1 = 0.0047377, criteria 2 = 1.9687172\n",
      "iteration 6000:   criteria 1 = 0.0033618, criteria 2 = 1.9742767\n",
      "iteration 7000:   criteria 1 = 0.003809, criteria 2 = 1.9764719\n",
      "iteration 8000:   criteria 1 = 0.0021773, criteria 2 = 1.970753\n",
      "iteration 9000:   criteria 1 = 0.0022237, criteria 2 = 1.9705364\n",
      "iteration 10000:   criteria 1 = 0.00172, criteria 2 = 1.9727311\n",
      "iteration 11000:   criteria 1 = 0.0019684, criteria 2 = 1.9735374\n",
      "iteration 12000:   criteria 1 = 0.0024502, criteria 2 = 1.9758583\n",
      "iteration 13000:   criteria 1 = 0.001451, criteria 2 = 1.9735647\n",
      "iteration 14000:   criteria 1 = 0.0014467, criteria 2 = 1.9727075\n",
      "iteration 15000:   criteria 1 = 0.0010832, criteria 2 = 1.9756665\n",
      "iteration 16000:   criteria 1 = 0.0009392, criteria 2 = 1.9726778\n",
      "iteration 17000:   criteria 1 = 0.000785, criteria 2 = 1.9748539\n",
      "iteration 18000:   criteria 1 = 0.0006978, criteria 2 = 1.9734927\n",
      "iteration 19000:   criteria 1 = 0.0005764, criteria 2 = 1.974262\n"
     ]
    },
    {
     "ename": "KeyboardInterrupt",
     "evalue": "",
     "output_type": "error",
     "traceback": [
      "\u001b[0;31m---------------------------------------------------------------------------\u001b[0m",
      "\u001b[0;31mKeyboardInterrupt\u001b[0m                         Traceback (most recent call last)",
      "\u001b[0;32m<ipython-input-205-bad037ccb042>\u001b[0m in \u001b[0;36m<module>\u001b[0;34m()\u001b[0m\n\u001b[0;32m----> 1\u001b[0;31m \u001b[0mx\u001b[0m\u001b[0;34m,\u001b[0m \u001b[0mk\u001b[0m \u001b[0;34m=\u001b[0m \u001b[0mFastGradientDescent\u001b[0m\u001b[0;34m(\u001b[0m\u001b[0mgamma\u001b[0m\u001b[0;34m=\u001b[0m\u001b[0;36m0.005\u001b[0m\u001b[0;34m,\u001b[0m \u001b[0mepsilon\u001b[0m\u001b[0;34m=\u001b[0m\u001b[0;36m1e-2\u001b[0m\u001b[0;34m,\u001b[0m \u001b[0mn\u001b[0m\u001b[0;34m=\u001b[0m\u001b[0mn\u001b[0m\u001b[0;34m)\u001b[0m\u001b[0;34m.\u001b[0m\u001b[0mfit\u001b[0m\u001b[0;34m(\u001b[0m\u001b[0mc_\u001b[0m\u001b[0;34m,\u001b[0m \u001b[0mp_\u001b[0m\u001b[0;34m,\u001b[0m \u001b[0mq_\u001b[0m\u001b[0;34m)\u001b[0m\u001b[0;34m\u001b[0m\u001b[0m\n\u001b[0m",
      "\u001b[0;32m<ipython-input-204-94e1d6f53963>\u001b[0m in \u001b[0;36mfit\u001b[0;34m(self, c, p, q)\u001b[0m\n\u001b[1;32m     88\u001b[0m \u001b[0;34m\u001b[0m\u001b[0m\n\u001b[1;32m     89\u001b[0m             \u001b[0mcriteria_a\u001b[0m \u001b[0;34m=\u001b[0m \u001b[0mself\u001b[0m\u001b[0;34m.\u001b[0m\u001b[0mdeviation_p_q\u001b[0m\u001b[0;34m(\u001b[0m\u001b[0mx_wave\u001b[0m\u001b[0;34m,\u001b[0m \u001b[0mp\u001b[0m\u001b[0;34m,\u001b[0m \u001b[0mq\u001b[0m\u001b[0;34m)\u001b[0m \u001b[0;34m<=\u001b[0m \u001b[0mepsilon_wave\u001b[0m\u001b[0;34m\u001b[0m\u001b[0m\n\u001b[0;32m---> 90\u001b[0;31m             \u001b[0mcriteria_b\u001b[0m \u001b[0;34m=\u001b[0m \u001b[0mself\u001b[0m\u001b[0;34m.\u001b[0m\u001b[0mf\u001b[0m\u001b[0;34m(\u001b[0m\u001b[0mc\u001b[0m\u001b[0;34m,\u001b[0m \u001b[0mx_wave\u001b[0m\u001b[0;34m)\u001b[0m \u001b[0;34m-\u001b[0m \u001b[0mself\u001b[0m\u001b[0;34m.\u001b[0m\u001b[0mphi\u001b[0m\u001b[0;34m(\u001b[0m\u001b[0mc\u001b[0m\u001b[0;34m,\u001b[0m \u001b[0mp\u001b[0m\u001b[0;34m,\u001b[0m \u001b[0mq\u001b[0m\u001b[0;34m,\u001b[0m \u001b[0mself\u001b[0m\u001b[0;34m.\u001b[0m\u001b[0mx_lambda\u001b[0m\u001b[0;34m,\u001b[0m \u001b[0mself\u001b[0m\u001b[0;34m.\u001b[0m\u001b[0mx_mu\u001b[0m\u001b[0;34m)\u001b[0m \u001b[0;34m<=\u001b[0m \u001b[0mself\u001b[0m\u001b[0;34m.\u001b[0m\u001b[0mepsilon\u001b[0m\u001b[0;34m\u001b[0m\u001b[0m\n\u001b[0m\u001b[1;32m     91\u001b[0m \u001b[0;34m\u001b[0m\u001b[0m\n\u001b[1;32m     92\u001b[0m             \u001b[0;32mif\u001b[0m \u001b[0mk\u001b[0m \u001b[0;34m%\u001b[0m \u001b[0;36m1000\u001b[0m \u001b[0;34m==\u001b[0m \u001b[0;36m0\u001b[0m\u001b[0;34m:\u001b[0m\u001b[0;34m\u001b[0m\u001b[0m\n",
      "\u001b[0;32m<ipython-input-204-94e1d6f53963>\u001b[0m in \u001b[0;36mf\u001b[0;34m(self, c, x)\u001b[0m\n\u001b[1;32m     51\u001b[0m \u001b[0;34m\u001b[0m\u001b[0m\n\u001b[1;32m     52\u001b[0m     \u001b[0;32mdef\u001b[0m \u001b[0mf\u001b[0m\u001b[0;34m(\u001b[0m\u001b[0mself\u001b[0m\u001b[0;34m,\u001b[0m \u001b[0mc\u001b[0m\u001b[0;34m,\u001b[0m \u001b[0mx\u001b[0m\u001b[0;34m)\u001b[0m\u001b[0;34m:\u001b[0m\u001b[0;34m\u001b[0m\u001b[0m\n\u001b[0;32m---> 53\u001b[0;31m         \u001b[0;32mreturn\u001b[0m \u001b[0;34m(\u001b[0m\u001b[0mc\u001b[0m \u001b[0;34m*\u001b[0m \u001b[0mx\u001b[0m\u001b[0;34m)\u001b[0m\u001b[0;34m.\u001b[0m\u001b[0msum\u001b[0m\u001b[0;34m(\u001b[0m\u001b[0;34m)\u001b[0m \u001b[0;34m+\u001b[0m \u001b[0mself\u001b[0m\u001b[0;34m.\u001b[0m\u001b[0mgamma\u001b[0m \u001b[0;34m*\u001b[0m \u001b[0;34m(\u001b[0m\u001b[0;34m(\u001b[0m\u001b[0mx\u001b[0m \u001b[0;34m+\u001b[0m \u001b[0mself\u001b[0m\u001b[0;34m.\u001b[0m\u001b[0msmall\u001b[0m\u001b[0;34m)\u001b[0m \u001b[0;34m*\u001b[0m \u001b[0mnp\u001b[0m\u001b[0;34m.\u001b[0m\u001b[0mlog\u001b[0m\u001b[0;34m(\u001b[0m\u001b[0;34m(\u001b[0m\u001b[0mx\u001b[0m \u001b[0;34m+\u001b[0m \u001b[0mself\u001b[0m\u001b[0;34m.\u001b[0m\u001b[0msmall\u001b[0m\u001b[0;34m)\u001b[0m \u001b[0;34m/\u001b[0m \u001b[0mself\u001b[0m\u001b[0;34m.\u001b[0m\u001b[0mx_0\u001b[0m\u001b[0;34m)\u001b[0m\u001b[0;34m)\u001b[0m\u001b[0;34m.\u001b[0m\u001b[0msum\u001b[0m\u001b[0;34m(\u001b[0m\u001b[0;34m)\u001b[0m\u001b[0;34m\u001b[0m\u001b[0m\n\u001b[0m\u001b[1;32m     54\u001b[0m \u001b[0;34m\u001b[0m\u001b[0m\n\u001b[1;32m     55\u001b[0m     \u001b[0;32mdef\u001b[0m \u001b[0mphi\u001b[0m\u001b[0;34m(\u001b[0m\u001b[0mself\u001b[0m\u001b[0;34m,\u001b[0m \u001b[0mc\u001b[0m\u001b[0;34m,\u001b[0m \u001b[0mp\u001b[0m\u001b[0;34m,\u001b[0m \u001b[0mq\u001b[0m\u001b[0;34m,\u001b[0m \u001b[0mlambda_x\u001b[0m\u001b[0;34m,\u001b[0m \u001b[0mmu_x\u001b[0m\u001b[0;34m)\u001b[0m\u001b[0;34m:\u001b[0m\u001b[0;34m\u001b[0m\u001b[0m\n",
      "\u001b[0;31mKeyboardInterrupt\u001b[0m: "
     ]
    }
   ],
   "source": [
    "x, k = FastGradientDescent(gamma=0.005, epsilon=1e-2, n=n).fit(c_, p_, q_)"
   ]
  },
  {
   "cell_type": "code",
   "execution_count": null,
   "metadata": {},
   "outputs": [],
   "source": [
    "x"
   ]
  }
 ],
 "metadata": {
  "kernelspec": {
   "display_name": "Python 3",
   "language": "python",
   "name": "python3"
  },
  "language_info": {
   "codemirror_mode": {
    "name": "ipython",
    "version": 3
   },
   "file_extension": ".py",
   "mimetype": "text/x-python",
   "name": "python",
   "nbconvert_exporter": "python",
   "pygments_lexer": "ipython3",
   "version": "3.6.4"
  }
 },
 "nbformat": 4,
 "nbformat_minor": 2
}
