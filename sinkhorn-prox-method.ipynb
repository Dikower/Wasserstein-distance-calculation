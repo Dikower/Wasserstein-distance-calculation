{
 "cells": [
  {
   "cell_type": "code",
   "execution_count": 1,
   "metadata": {},
   "outputs": [],
   "source": [
    "import numpy as np\n",
    "from lib import SinkhornMethod\n",
    "from lib import Experiments"
   ]
  },
  {
   "cell_type": "code",
   "execution_count": 2,
   "metadata": {},
   "outputs": [],
   "source": [
    "def sample_batch(n):\n",
    "    c = np.random.uniform(0, 10, size=[n, n])\n",
    "    p = np.random.dirichlet(np.ones(n), size=1).ravel()\n",
    "    q = np.random.dirichlet(np.ones(n), size=1).ravel()\n",
    "    return c, p, q"
   ]
  },
  {
   "cell_type": "code",
   "execution_count": 3,
   "metadata": {},
   "outputs": [
    {
     "name": "stdout",
     "output_type": "stream",
     "text": [
      "–––––––––––––––––––––––––––––\n",
      "Algorithm configuration:\n",
      "gamma = 1\n",
      "eps = 0.01\n",
      "eps prox = 0.001\n",
      "–––––––––––––––––––––––––––––\n",
      "\n",
      "Inner iteration 6: metric (one) = 0.000609 < 0.0006580183112924651 and metric (two) = -0.000186 < 0.01\n",
      "– Outer iteration 0: metric = 0.0603 > 0.001\n",
      "Inner iteration 9: metric (one) = 0.001015 < 0.0011053183438069054 and metric (two) = 0.000965 < 0.01\n",
      "– Outer iteration 1: metric = 0.0165 > 0.001\n",
      "Inner iteration 4: metric (one) = 0.001082 < 0.0012475644235187074 and metric (two) = 0.000371 < 0.01\n",
      "– Outer iteration 2: metric = 0.0083 > 0.001\n",
      "Inner iteration 5: metric (one) = 0.001197 < 0.0013047501739903663 and metric (two) = 0.000101 < 0.01\n",
      "– Outer iteration 3: metric = 0.0042 > 0.001\n",
      "Inner iteration 5: metric (one) = 0.001185 < 0.0013321803659573207 and metric (two) = -4.7e-05 < 0.01\n",
      "– Outer iteration 4: metric = 0.0031 > 0.001\n",
      "Inner iteration 3: metric (one) = 0.001151 < 0.0013466533516017217 and metric (two) = -0.000132 < 0.01\n",
      "– Outer iteration 5: metric = 0.0024 > 0.001\n",
      "Inner iteration 2: metric (one) = 0.001095 < 0.0013550184130868529 and metric (two) = -0.000146 < 0.01\n",
      "– Outer iteration 6: metric = 0.002 > 0.001\n",
      "Inner iteration 1: metric (one) = 0.001248 < 0.0013604046476531555 and metric (two) = -0.000169 < 0.01\n",
      "– Outer iteration 7: metric = 0.0016 > 0.001\n",
      "Inner iteration 2: metric (one) = 0.001079 < 0.001364006307822909 and metric (two) = 0.000117 < 0.01\n",
      "– Outer iteration 8: metric = 0.0013 > 0.001\n",
      "Inner iteration 1: metric (one) = 0.001006 < 0.0013670171744325369 and metric (two) = 0.000392 < 0.01\n",
      "– Outer iteration 9: metric = 0.0011 > 0.001\n",
      "Inner iteration 1: metric (one) = 0.000983 < 0.0013698746090433736 and metric (two) = 0.00061 < 0.01\n",
      "– Outer iteration 10: metric = 0.001 > 0.001\n",
      "– Outer iteration 11: metric = 0.001 < 0.001\n"
     ]
    },
    {
     "data": {
      "text/plain": [
       "39"
      ]
     },
     "execution_count": 3,
     "metadata": {},
     "output_type": "execute_result"
    }
   ],
   "source": [
    "n = 40\n",
    "c, p, q = sample_batch(n)\n",
    "x, k, t = SinkhornMethod(gamma=1, epsilon=1e-2, log=True, n=n).fit(c, p, q)\n",
    "k"
   ]
  },
  {
   "cell_type": "code",
   "execution_count": 4,
   "metadata": {},
   "outputs": [
    {
     "data": {
      "image/png": "[encoded data removed]",
      "text/plain": [
       "<matplotlib.figure.Figure at 0x1a16710d30>"
      ]
     },
     "metadata": {},
     "output_type": "display_data"
    }
   ],
   "source": [
    "c_, p_, q_ = Experiments.load_data('experiments/test_data/1.png', 'experiments/test_data/2.png', show=True, size=10)\n",
    "n = p_.shape[0]"
   ]
  },
  {
   "cell_type": "code",
   "execution_count": 5,
   "metadata": {},
   "outputs": [
    {
     "name": "stdout",
     "output_type": "stream",
     "text": [
      "–––––––––––––––––––––––––––––\n",
      "Algorithm configuration:\n",
      "gamma = 0.005\n",
      "eps = 0.01\n",
      "eps prox = 0.001\n",
      "–––––––––––––––––––––––––––––\n",
      "\n",
      "Inner iteration 1000: metric (one) = 0.006402 > 0.0006900847284902056 or metric (two) = -0.008605 > 0.01\n",
      "Inner iteration 2000: metric (one) = 0.003344 > 0.0006288413088329059 or metric (two) = -0.004895 > 0.01\n",
      "Inner iteration 3000: metric (one) = 0.002693 > 0.0006165593188641373 or metric (two) = -0.004276 > 0.01\n",
      "Inner iteration 4000: metric (one) = 0.00175 > 0.0006142329136206475 or metric (two) = -0.002089 > 0.01\n",
      "Inner iteration 5000: metric (one) = 0.001271 > 0.0006145334424200542 or metric (two) = -0.001361 > 0.01\n",
      "Inner iteration 6000: metric (one) = 0.001267 > 0.0006133991870855702 or metric (two) = -0.001554 > 0.01\n",
      "Inner iteration 7000: metric (one) = 0.001264 > 0.0006117675219676942 or metric (two) = -0.001754 > 0.01\n",
      "Inner iteration 7993: metric (one) = 0.00061 < 0.000610060760456269 and metric (two) = -0.000912 < 0.01\n",
      "– Outer iteration 0: metric = 0.0542 > 0.001\n",
      "Inner iteration 7: metric (one) = 0.007367 > 0.0006094806163112398 or metric (two) = -0.01298 > 0.01\n",
      "Inner iteration 161: metric (one) = 0.000607 < 0.0006083773490810711 and metric (two) = -0.000387 < 0.01\n",
      "– Outer iteration 1: metric = 0.0021 > 0.001\n",
      "Inner iteration 284: metric (one) = 0.000608 < 0.0006088215762436816 and metric (two) = -0.000269 < 0.01\n",
      "– Outer iteration 2: metric = 0.0007 > 0.001\n",
      "– Outer iteration 3: metric = 0.0007 < 0.001\n"
     ]
    },
    {
     "data": {
      "text/plain": [
       "8438"
      ]
     },
     "execution_count": 5,
     "metadata": {},
     "output_type": "execute_result"
    }
   ],
   "source": [
    "x, k, t = SinkhornMethod(gamma=0.005, epsilon=1e-2, n=n, log=True).fit(c_, p_, q_)\n",
    "k"
   ]
  },
  {
   "cell_type": "code",
   "execution_count": null,
   "metadata": {},
   "outputs": [],
   "source": []
  }
 ],
 "metadata": {
  "kernelspec": {
   "display_name": "Python 3",
   "language": "python",
   "name": "python3"
  },
  "language_info": {
   "codemirror_mode": {
    "name": "ipython",
    "version": 3
   },
   "file_extension": ".py",
   "mimetype": "text/x-python",
   "name": "python",
   "nbconvert_exporter": "python",
   "pygments_lexer": "ipython3",
   "version": "3.6.4"
  }
 },
 "nbformat": 4,
 "nbformat_minor": 2
}
